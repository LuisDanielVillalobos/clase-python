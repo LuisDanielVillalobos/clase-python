{
  "nbformat": 4,
  "nbformat_minor": 0,
  "metadata": {
    "colab": {
      "provenance": [],
      "include_colab_link": true
    },
    "kernelspec": {
      "name": "python3",
      "display_name": "Python 3"
    },
    "language_info": {
      "name": "python"
    }
  },
  "cells": [
    {
      "cell_type": "markdown",
      "metadata": {
        "id": "view-in-github",
        "colab_type": "text"
      },
      "source": [
        "<a href=\"https://colab.research.google.com/github/LuisDanielVillalobos/clase-python/blob/main/ldve_py_exa1.ipynb\" target=\"_parent\"><img src=\"https://colab.research.google.com/assets/colab-badge.svg\" alt=\"Open In Colab\"/></a>"
      ]
    },
    {
      "cell_type": "markdown",
      "source": [
        "#Pre"
      ],
      "metadata": {
        "id": "eEc1xguz7JyR"
      }
    },
    {
      "cell_type": "code",
      "execution_count": null,
      "metadata": {
        "id": "5stua34yC-WG"
      },
      "outputs": [],
      "source": [
        "import random "
      ]
    },
    {
      "cell_type": "code",
      "source": [],
      "metadata": {
        "id": "KWTFDMDtv6VV"
      },
      "execution_count": null,
      "outputs": []
    },
    {
      "cell_type": "code",
      "source": [
        "def valinum_int (msge,ri=-32000,rf=64000):\n",
        "    while True:\n",
        "        try:\n",
        "            num = int(input(f\"{msge}\"))            \n",
        "            if num > rf or num < ri:\n",
        "                print (\"VALOR INVALIDO\")\n",
        "                print (f\"El valor debe estar entre: '{ri} y {rf}'\")            \n",
        "            else:\n",
        "                return num\n",
        "                break   \n",
        "        except ValueError:\n",
        "            print (\"Error: El número debe ser entero\")\n",
        "        except:\n",
        "            print (\"error\")"
      ],
      "metadata": {
        "id": "VeCDSoSS6APN"
      },
      "execution_count": null,
      "outputs": []
    },
    {
      "cell_type": "markdown",
      "source": [
        "# Escribe una funcion de Python en collaboratory que realice lo siguiente:\n",
        "\n",
        "funcion que retorne un diccionario con los datos basicos de un alumno (pedir al usuario y validar)"
      ],
      "metadata": {
        "id": "I0bfiefJ7N36"
      }
    },
    {
      "cell_type": "markdown",
      "source": [
        "Escribe una funcion de Python en collaboratory que realice lo siguiente:\n",
        "\n",
        "funcion que retorne un diccionario con los datos basicos de un alumno (pedir al usuario y validar)"
      ],
      "metadata": {
        "id": "XX0oJRaprju9"
      }
    },
    {
      "cell_type": "code",
      "source": [],
      "metadata": {
        "id": "I0ucadqt2Oq7"
      },
      "execution_count": null,
      "outputs": []
    },
    {
      "cell_type": "code",
      "source": [
        "def verificar_mt(lista_dic,matri):\n",
        "    for diccionario in lista_dic:\n",
        "        if diccionario.get(\"Matricula\") == matri:\n",
        "            print(\"Ya alguien tiene esa matricula\")\n",
        "            return False\n",
        "    return True"
      ],
      "metadata": {
        "id": "o09w6NUytAxd"
      },
      "execution_count": null,
      "outputs": []
    },
    {
      "cell_type": "code",
      "source": [
        "def agregar_man(dic):\n",
        "\n",
        "    registro = [\"Matricula\",\"Nombre\",\"Ap.Paterno\",\"Ap.Materno\",\"Sexo\"]\n",
        "    while True:\n",
        "        repetido = False\n",
        "        lista_datos = []\n",
        "        while repetido == False:\n",
        "            matri = valinum_int(\"Ingresa tu matricula: \",300000,399999)\n",
        "            repetido = verificar_mt(dic, matri)\n",
        "        lista_datos.append(matri)\n",
        "        nom = input(\"Ingresa tu Nombre: \")\n",
        "        lista_datos.append(nom)\n",
        "        appat = input(\"Ingresa tu Apellido Paterno: \")\n",
        "        lista_datos.append(appat)\n",
        "        apmat = input(\"Ingresa tu Apellido Materno: \")\n",
        "        lista_datos.append(apmat)\n",
        "        sex = valinum_int(\"1-hombre, 2-Mujer\",1,2)\n",
        "        if sex==1:\n",
        "            lista_datos.append(\"Hombre\")\n",
        "        else:\n",
        "            lista_datos.append(\"Mujer\")\n",
        "        dic = dict(zip(registro,lista_datos))\n",
        "        lista_datos.append(dic)\n",
        "        print(\"Se agrego correctamente el registro\")\n",
        "        op = valinum_int(\"Deseas agregar otro registro?[1.-Si 2.-No]: \",1,2)\n",
        "        if op == 2:\n",
        "            return dic\n"
      ],
      "metadata": {
        "id": "6OlJWBQyqt2G"
      },
      "execution_count": null,
      "outputs": []
    },
    {
      "cell_type": "code",
      "source": [
        "diccionario=[]\n",
        "agregar_man(diccionario)"
      ],
      "metadata": {
        "colab": {
          "base_uri": "https://localhost:8080/"
        },
        "id": "6JPMnoDmtbtG",
        "outputId": "977c1176-765b-4da3-b4ec-e5722a80c5ce"
      },
      "execution_count": null,
      "outputs": [
        {
          "name": "stdout",
          "output_type": "stream",
          "text": [
            "Ingresa tu matricula: 333333\n",
            "Ingresa tu Nombre: dsf\n",
            "Ingresa tu Apellido Paterno: sdg\n",
            "Ingresa tu Apellido Materno: sgds\n",
            "1-hombre, 2-Mujer2\n",
            "Se agrego correctamente el registro\n",
            "Deseas agregar otro registro?[1.-Si 2.-No]: 2\n"
          ]
        },
        {
          "output_type": "execute_result",
          "data": {
            "text/plain": [
              "{'Matricula': 333333,\n",
              " 'Nombre': 'dsf',\n",
              " 'Ap.Paterno': 'sdg',\n",
              " 'Ap.Materno': 'sgds',\n",
              " 'Sexo': 'Mujer'}"
            ]
          },
          "metadata": {},
          "execution_count": 18
        }
      ]
    }
  ]
}