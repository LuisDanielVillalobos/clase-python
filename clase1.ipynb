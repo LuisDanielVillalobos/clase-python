{
  "nbformat": 4,
  "nbformat_minor": 0,
  "metadata": {
    "colab": {
      "provenance": [],
      "toc_visible": true,
      "authorship_tag": "ABX9TyM1wPFJsTCeUNGAxrtLGTGs",
      "include_colab_link": true
    },
    "kernelspec": {
      "name": "python3",
      "display_name": "Python 3"
    },
    "language_info": {
      "name": "python"
    }
  },
  "cells": [
    {
      "cell_type": "markdown",
      "metadata": {
        "id": "view-in-github",
        "colab_type": "text"
      },
      "source": [
        "<a href=\"https://colab.research.google.com/github/LuisDanielVillalobos/clase-python/blob/main/clase1.ipynb\" target=\"_parent\"><img src=\"https://colab.research.google.com/assets/colab-badge.svg\" alt=\"Open In Colab\"/></a>"
      ]
    },
    {
      "cell_type": "markdown",
      "source": [
        "### **Mi primer programa con python en colaboratory** \n",
        "1. Usar collaboratory\n",
        "2. git hub\n",
        "3. la sentencia de salida \n"
      ],
      "metadata": {
        "id": "gVgsH-p4zOIy"
      }
    },
    {
      "cell_type": "code",
      "source": [
        "#@ tittle deplegar\n",
        "print (\"hola mundo\")"
      ],
      "metadata": {
        "colab": {
          "base_uri": "https://localhost:8080/"
        },
        "id": "pydGvrvb3XRV",
        "outputId": "0cccf01a-3302-4ec6-c226-39162de9a298"
      },
      "execution_count": 1,
      "outputs": [
        {
          "output_type": "stream",
          "name": "stdout",
          "text": [
            "hola mundo\n"
          ]
        }
      ]
    },
    {
      "cell_type": "code",
      "source": [
        "print (\"Luis Daniel Villalobos Ensaldo\")"
      ],
      "metadata": {
        "colab": {
          "base_uri": "https://localhost:8080/"
        },
        "id": "3NukIg1x0M26",
        "outputId": "c8392c93-3008-478b-fe74-958c43be3b78"
      },
      "execution_count": 2,
      "outputs": [
        {
          "output_type": "stream",
          "name": "stdout",
          "text": [
            "Luis Daniel Villalobos Ensaldo\n"
          ]
        }
      ]
    }
  ]
}