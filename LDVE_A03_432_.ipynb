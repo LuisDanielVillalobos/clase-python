{
  "cells": [
    {
      "cell_type": "markdown",
      "metadata": {
        "id": "view-in-github",
        "colab_type": "text"
      },
      "source": [
        "<a href=\"https://colab.research.google.com/github/LuisDanielVillalobos/clase-python/blob/main/LDVE_A03_432_.ipynb\" target=\"_parent\"><img src=\"https://colab.research.google.com/assets/colab-badge.svg\" alt=\"Open In Colab\"/></a>"
      ]
    },
    {
      "cell_type": "markdown",
      "metadata": {
        "id": "R8Ccj4B47ROf"
      },
      "source": [
        "# 1.- Algoritmo que lea 3 calificaciones calcule el promedio del alumno y desplegar: \n"
      ]
    },
    {
      "cell_type": "markdown",
      "metadata": {
        "id": "9BjJzvVd7kD5"
      },
      "source": [
        "Si prom < 30 Repetir\n",
        "\n",
        "Si prom >=30 y prom <60 extraordinario\n",
        "\n",
        "Si prom >=60 y prom <70 suficiente\n",
        "\n",
        "Si prom >=70 y prom <80 Regular\n",
        "\n",
        "Si prom >=80 y prom <90 bien\n",
        "\n",
        "Si prom >=90 y prom <98 muy bien\n",
        "\n",
        "Si prom >=98 y prom <=100 excelente\n",
        "\n",
        "Si prom >100 Error en promedio\n",
        "\n",
        "Realizar el algoritmo optimizado"
      ]
    },
    {
      "cell_type": "code",
      "execution_count": null,
      "metadata": {
        "colab": {
          "base_uri": "https://localhost:8080/"
        },
        "id": "QqeFro3U5-Tt",
        "outputId": "5cb385e2-b565-4fdc-98f8-269cef51cb1c"
      },
      "outputs": [
        {
          "name": "stdout",
          "output_type": "stream",
          "text": [
            "Escribame 3 calificaciones: 30\n",
            "Segunda: 30\n",
            "Tercera: 30\n",
            "Su promedio es: 30.0\n",
            "EXTRAORDINARIO\n"
          ]
        }
      ],
      "source": [
        "calif1 = int(input(\"Escribame 3 calificaciones: \"))\n",
        "calif2 = int(input(\"Segunda: \"))\n",
        "calif3 = int(input(\"Tercera: \"))\n",
        "prom = (calif1 + calif2 + calif3) / 3\n",
        "print (f\"Su promedio es: {prom}\")\n",
        "if prom >= 80:\n",
        "    if prom < 90:\n",
        "        print (\"BIEN\")\n",
        "    elif prom < 98:\n",
        "        print (\"MUY BIEN\")\n",
        "    else:\n",
        "        if prom <= 100:\n",
        "            print (\"EXCElENTE\")\n",
        "        else:\n",
        "            print (\"ERROR\")\n",
        "elif prom < 80:\n",
        "    if prom >= 70:\n",
        "        print (\"REGULAR\")\n",
        "    elif prom >= 60:\n",
        "        print (\"SUFICIENTE\")\n",
        "    else:\n",
        "        if prom >= 30:\n",
        "            print (\"EXTRAORDINARIO\")\n",
        "        else:\n",
        "            print (\"REPETIR\")\n",
        "\n",
        "else:\n",
        "    print (\"?\")\n"
      ]
    },
    {
      "cell_type": "markdown",
      "metadata": {
        "id": "5hCfk6Sx7Rvf"
      },
      "source": [
        "# 2.- Algoritmo que sirva para calcular el salario semanal de un trabajador donde se obtiene como dato de entrada las horas semanales trabajadas, el salario por hora."
      ]
    },
    {
      "cell_type": "markdown",
      "metadata": {
        "id": "ci2q-BI29abn"
      },
      "source": [
        "El programa deberá calcular el salario normal, salario extra y salario total, considerando lo siguiente: \n",
        "\n",
        "Jornada Normal de 40 horas. \n",
        "El salario normal se considera las horas trabajadas menores o igual a la jornada normal\n",
        "Salario extra se considera las horas trabajadas mayores a la jornada normal y se pagan dobles las primeras 9 y triples a partir de la décima hora extra\n",
        " \n",
        "**Nota**: Desplegar todos los datos (Salario x hora, Horas Trabajadas, Salario normal, Salario extra y Salario Total)"
      ]
    },
    {
      "cell_type": "code",
      "execution_count": 45,
      "metadata": {
        "id": "bxllPevW7R6G",
        "colab": {
          "base_uri": "https://localhost:8080/"
        },
        "outputId": "012ca5c8-508f-4464-dea5-444a8a5fbc3d"
      },
      "outputs": [
        {
          "output_type": "stream",
          "name": "stdout",
          "text": [
            "Cuantas horas trabajo?49\n",
            "Cuanto es su sueldo por hora?10\n",
            "Horas trabajadas 49\n",
            "Salaraio por hora: 10$\n",
            "Salario normal 400$\n",
            "Salaraio extra: 180$\n",
            "Paga total: 580$\n"
          ]
        }
      ],
      "source": [
        "horas = int(input(\"Cuantas horas trabajo?\"))\n",
        "pagaxhora = int(input(\"Cuanto es su sueldo por hora?\"))\n",
        "if horas <= 40:\n",
        "    salanormal = horas * pagaxhora\n",
        "    salaextra = 0\n",
        "elif horas < 50:\n",
        "    salaextra = (horas - 40) * pagaxhora * 2\n",
        "    salanormal = 40 * pagaxhora\n",
        "else:\n",
        "    salaextra = (9 * pagaxhora * 2) + ((horas - 49) * pagaxhora * 3)\n",
        "    salanormal = 40 * pagaxhora\n",
        "salario = salanormal + salaextra\n",
        "print (f\"Horas trabajadas {horas}\\nSalaraio por hora: {pagaxhora}$\")\n",
        "print (f\"Salario normal {salanormal}$\\nSalaraio extra: {salaextra}$\")\n",
        "print (f\"Paga total: {salario}$\")"
      ]
    },
    {
      "cell_type": "markdown",
      "metadata": {
        "id": "sljmcKXo7SDf"
      },
      "source": [
        "# 3.- Algoritmo que sirva para desplegar el Total de una llamada telefónica donde se pide como datos de entrada los minutos y el tipo de llamada, se cobra de la siguiente manera:"
      ]
    },
    {
      "cell_type": "markdown",
      "metadata": {
        "id": "TbWkwtV_9tng"
      },
      "source": [
        "1.- Llamada Local $3.00 sin límite de tiempo \n",
        "\n",
        "2.- Llamada Nacional $7.00 por los 3 primeros minutos y $$2.00 minuto adicional \n",
        "\n",
        "3.- Llamada Internacional $$9.00 por los 2 primeros minutos y $4.00 minuto adicional\n",
        "\n",
        " Desplegar, Subtotal,Iva (16%) y Total."
      ]
    },
    {
      "cell_type": "code",
      "execution_count": null,
      "metadata": {
        "colab": {
          "base_uri": "https://localhost:8080/"
        },
        "id": "G6x1JXTP7SPu",
        "outputId": "7d676078-9b2c-4d89-b531-727a460b2135"
      },
      "outputs": [
        {
          "output_type": "stream",
          "name": "stdout",
          "text": [
            "Digame la duración de llamada en minutos: 11\n",
            "Tipos de llamada: \n",
            "(1)Llamada locar\n",
            "(2)Llamada Nacional\n",
            "(3)Llamada Internacional\n",
            "Ingrese el tipo de llamada: 3\n",
            "Su subtotal es: $45 \n",
            "iva: $7.2\n",
            "Su total es: $52.2\n"
          ]
        }
      ],
      "source": [
        "minutos = int(input(\"Digame la duración de llamada en minutos: \"))\n",
        "print (\"Tipos de llamada: \\n(1)Llamada locar\")\n",
        "print (\"(2)Llamada Nacional\\n(3)Llamada Internacional\")\n",
        "tipo = int(input(\"Ingrese el tipo de llamada: \"))\n",
        "if tipo == 1:\n",
        "    subtotal = 3\n",
        "elif tipo == 2:\n",
        "    if minutos > 3:\n",
        "        subtotal = ((minutos - 3) * 2) + 7\n",
        "    else:\n",
        "        subtotal = 7\n",
        "if tipo == 3:\n",
        "    if minutos > 2:\n",
        "        subtotal = ((minutos - 2) * 4) + 9\n",
        "    else:\n",
        "        subtotal = 9\n",
        "iva = subtotal * 0.16\n",
        "total = subtotal + iva\n",
        "print (f\"Su subtotal es: ${subtotal} \\niva: ${iva}\")\n",
        "print (f\"Su total es: ${total}\")\n"
      ]
    },
    {
      "cell_type": "markdown",
      "metadata": {
        "id": "A-J5wmeL7SY-"
      },
      "source": [
        "# 4.- Algoritmo que sirva para calcular el Total a pagar por consumo de agua, donde el dato de entrada son los M3 de agua consumidos, Tomar en cuenta que se cobra escalonada de la Siguiente manera: "
      ]
    },
    {
      "cell_type": "markdown",
      "metadata": {
        "id": "NFmORvc7-hkn"
      },
      "source": [
        "Rango1: 0 al 4 M3 $50 x facturación sin importar cuánto consumió en este rango \n",
        "\n",
        "Rango2: 5 a 15 M3 $8.00 x M3 \n",
        "\n",
        "Rango3: 16 a 50 M3 $10.00 x M3 \n",
        "\n",
        "Rango4: 51 M3 en adelante $11.00 x M3 \n",
        "\n",
        "Nota: Desplegar SubTotal, Iva(16%), y Total a pagar."
      ]
    },
    {
      "cell_type": "code",
      "execution_count": 9,
      "metadata": {
        "id": "oHWXGFob7ShH",
        "colab": {
          "base_uri": "https://localhost:8080/"
        },
        "outputId": "e584826f-ad7a-4444-f2a3-085e77c040f6"
      },
      "outputs": [
        {
          "output_type": "stream",
          "name": "stdout",
          "text": [
            "¿Cuántos m^3 de agua consumio? :51\n",
            "Subtotal: $561\n",
            "Iva: $89.76\n",
            "Total: $650.76\n"
          ]
        }
      ],
      "source": [
        "consumo = int(input(\"¿Cuántos m^3 de agua consumio? :\"))\n",
        "if consumo < 5:\n",
        "    subtotal = 50\n",
        "elif consumo < 51:\n",
        "    if consumo < 16:\n",
        "        subtotal = consumo * 8\n",
        "    else:\n",
        "        subtotal = consumo * 10\n",
        "else:\n",
        "    subtotal = consumo * 11\n",
        "iva = subtotal * 0.16\n",
        "total = subtotal + iva\n",
        "print (f\"Subtotal: ${subtotal}\")\n",
        "print (f\"Iva: ${iva}\\nTotal: ${total}\")\n"
      ]
    },
    {
      "cell_type": "markdown",
      "metadata": {
        "id": "CxIwD8wT7Som"
      },
      "source": [
        "# 5- En la materia de Metodología de la programación se aplican 5 exámenes, calcular el promedio final de la materia donde la calificación menor de los exámenes se anula y el promedio se calcula en base a 4 exámenes.\n"
      ]
    },
    {
      "cell_type": "code",
      "execution_count": null,
      "metadata": {
        "id": "mm2yTsLK7SxW"
      },
      "outputs": [],
      "source": [
        "primera = int*input(\"Ingrese sus cinco calificaciones\\n1: \")\n",
        "segunda = int*input(\"2: \")\n",
        "tercera = int*input(\"3: \")\n",
        "cuarta = int*input(\"4: \")\n",
        "quinta = int*input(\"5: \")\n",
        "if primera < segunda:\n",
        "  "
      ]
    },
    {
      "cell_type": "markdown",
      "metadata": {
        "id": "acYLn3-h8sLw"
      },
      "source": [
        "# 6.- Algoritmo que sirva para el juego del CHINCHAMPU (Piedra, Papel, Tijera) para 1 jugador y la computadora, **(usar condición anidada)**"
      ]
    },
    {
      "cell_type": "code",
      "execution_count": 47,
      "metadata": {
        "id": "tq3LfqtW-teG",
        "colab": {
          "base_uri": "https://localhost:8080/"
        },
        "outputId": "cbf517fc-0ba0-4024-9e51-7145acf01708"
      },
      "outputs": [
        {
          "output_type": "stream",
          "name": "stdout",
          "text": [
            "CHIN CHAN PU\n",
            "Piedra, papel o tijera!\n",
            "(1)Piedra\n",
            "(2)Papel\n",
            "(3)Tijera\n",
            "Selecciona opcion: 1\n",
            "Yo escojo papel\n",
            "PERDISTE\n"
          ]
        }
      ],
      "source": [
        "print (\"CHIN CHAN PU\\nPiedra, papel o tijera!\")\n",
        "print (\"(1)Piedra\\n(2)Papel\\n(3)Tijera\")\n",
        "mano = int(input(\"Selecciona opcion: \"))\n",
        "if mano < 4:\n",
        "    if mano < 3:\n",
        "        if mano < 2:\n",
        "            print (\"Yo escojo papel\")\n",
        "        else:\n",
        "                print (\"Yo escojo tijera\")\n",
        "    else: \n",
        "        print (\"Yo escojo piedra\")\n",
        "print (\"PERDISTE\")\n"
      ]
    },
    {
      "cell_type": "markdown",
      "metadata": {
        "id": "AZy3XqEw8sbY"
      },
      "source": [
        "# 7.- Algoritmo que sirva para el juego del CHINCHAMPU (Piedra, Papel, Tijera) para 1 jugador y la computadora, **(usar selección múltiple)**"
      ]
    },
    {
      "cell_type": "code",
      "execution_count": null,
      "metadata": {
        "id": "jg2ZtRRC8sj3"
      },
      "outputs": [],
      "source": [
        "print (\"CHIN CHAN PU\\nPiedra, papel o tijera!\")\n",
        "print (\"(1)Piedra\\n(2)Papel\\n(3)Tijera\")\n",
        "mano = int(input(\"Selecciona opcion: \"))\n",
        "if mano == 1:\n",
        "    print (\"Yo escojo papel\")\n",
        "elif mano == 2:\n",
        "    print (\"Yo escojo tijera\")\n",
        "else:\n",
        "    print (\"Yo escojo piedra\")\n",
        "print (\"PERDISTE\")\n"
      ]
    },
    {
      "cell_type": "markdown",
      "metadata": {
        "id": "X3iafefK8spA"
      },
      "source": [
        "# 8.- Una tienda de electrónica ofrece descuentos a sus clientes, dependiendo del tipo de producto que compren."
      ]
    },
    {
      "cell_type": "markdown",
      "metadata": {
        "id": "opq7Lia38_1Q"
      },
      "source": [
        "Si el cliente compra una computadora, tiene un descuento del 5% en el precio de la computadora y un 10% de descuento en una impresora si la compra junto con la computadora. Si el cliente compra una televisión, tiene un descuento del 7% en el precio de la televisión y un 15% de descuento en una barra de sonido si la compra junto con la televisión. Si el cliente compra una consola de videojuegos, tiene un descuento del 10% en el precio de la consola y un 20% de descuento en un juego si lo compra junto con la consola. Escribe un programa que calcule el precio a pagar por un cliente, tomando en cuenta los descuentos correspondientes."
      ]
    },
    {
      "cell_type": "code",
      "execution_count": 27,
      "metadata": {
        "id": "4LcOK93L8su4",
        "colab": {
          "base_uri": "https://localhost:8080/"
        },
        "outputId": "230f6eb6-bb88-412f-f83e-5b1a9362466e"
      },
      "outputs": [
        {
          "output_type": "stream",
          "name": "stdout",
          "text": [
            "Productos:\n",
            "(1)Computadora\n",
            "(2)Computadora e impresora\n",
            "(3)Televisor\n",
            "(4)Tv y barra de sonido\n",
            "(5)Consola\n",
            "(6)Consola y videojuego\n",
            "(7)Otro\n",
            "Seleccione la opcion de su producto: 7\n",
            "Tiene un descuento de: 0% \n"
          ]
        }
      ],
      "source": [
        "print (\"Productos:\")\n",
        "print (\"(1)Computadora\\n(2)Computadora e impresora\")\n",
        "print (\"(3)Televisor\\n(4)Tv y barra de sonido\")\n",
        "print (\"(5)Consola\\n(6)Consola y videojuego\\n(7)Otro\")\n",
        "producto = int(input(\"Seleccione la opcion de su producto: \"))\n",
        "if producto < 4:\n",
        "    if producto == 1:\n",
        "        desc = 5\n",
        "    elif producto == 2:\n",
        "        desc = 5\n",
        "        desc2 = 10\n",
        "    else:\n",
        "        desc = 7\n",
        "elif producto < 7:\n",
        "    if producto == 4:\n",
        "        desc = 7\n",
        "        desc2 = 15\n",
        "    elif producto == 5:\n",
        "        desc = 10\n",
        "    else:\n",
        "        desc = 10\n",
        "        desc2 = 20\n",
        "else:\n",
        "    desc = 0\n",
        "if producto % 2 == 0:\n",
        "    print (f\"Tiene un descuento de {desc}% en su primer producto\")\n",
        "    print (f\"Y un descuento de {desc2}% en el segundo producto\")\n",
        "\n",
        "else:\n",
        "    print (f\"Tiene un descuento de: {desc}% \")"
      ]
    },
    {
      "cell_type": "markdown",
      "metadata": {
        "id": "JUfMT7Vh8sz4"
      },
      "source": [
        "# 9.- En una tienda de ropa, los precios de los productos cambian dependiendo de la temporada."
      ]
    },
    {
      "cell_type": "markdown",
      "metadata": {
        "id": "X1fAYyL99MGA"
      },
      "source": [
        "Durante la temporada de verano, todos los productos tienen un descuento del 20%. Durante la temporada de invierno, los productos con etiqueta roja tienen un descuento del 30% y los productos con etiqueta verde tienen un descuento del 15%. Durante la temporada de primavera y otoño, los productos con etiqueta amarilla tienen un descuento del 10%. Escribe un programa que calcule el precio a pagar por un cliente, tomando en cuenta los descuentos correspondientes."
      ]
    },
    {
      "cell_type": "code",
      "execution_count": null,
      "metadata": {
        "id": "PiPNyXcB8s7w",
        "colab": {
          "base_uri": "https://localhost:8080/"
        },
        "outputId": "d1a4990f-fd8d-4c54-8112-22f38e2f4561"
      },
      "outputs": [
        {
          "output_type": "stream",
          "name": "stdout",
          "text": [
            "Temporadas:\n",
            "(1)Invierno\n",
            "(2)Primavera u Otoño\n",
            "(3)Verano\n",
            "\n",
            "Tipo de etiqueta:\n",
            "(1)Verde\n",
            "(2)roja\n",
            "(3)Amarilla\n",
            "\n",
            "Indique el costo de la prenda: 100\n",
            "Indique la temporada: 2\n",
            "Indique la etiqueta: 3\n",
            "Tiene un descuento de: 10%\n",
            "Su total es: $90.0\n"
          ]
        }
      ],
      "source": [
        "print (\"Temporadas:\")\n",
        "print (\"(1)Invierno\\n(2)Primavera u Otoño\\n(3)Verano\\n\")\n",
        "print (\"Tipo de etiqueta:\")\n",
        "print (\"(1)Verde\\n(2)roja\\n(3)Amarilla\\n\")\n",
        "precio = int(input(\"Indique el costo de la prenda: \"))\n",
        "temp = int(input(\"Indique la temporada: \"))\n",
        "color = int(input(\"Indique la etiqueta: \"))\n",
        "\n",
        "if temp == 1:\n",
        "    if color == 2:\n",
        "            descuento = 30\n",
        "    elif color == 1:\n",
        "            descuento = 15\n",
        "    else:\n",
        "        descuento = 0\n",
        "elif temp == 2:\n",
        "    if color == 3:\n",
        "        descuento = 10\n",
        "    else: \n",
        "        descuento = 0\n",
        "else:\n",
        "    descuento = 20\n",
        "\n",
        "total = precio - (precio * descuento / 100)\n",
        "print (f\"Tiene un descuento de: {descuento}%\")\n",
        "print (f\"Su total es: ${total}\")"
      ]
    },
    {
      "cell_type": "markdown",
      "metadata": {
        "id": "WRb12mAe8tFA"
      },
      "source": [
        "# 10.- Un restaurante ofrece descuentos a sus clientes, dependiendo del día de la semana y del tipo de menú que pidan."
      ]
    },
    {
      "cell_type": "markdown",
      "metadata": {
        "id": "q7YgJcxc9UZw"
      },
      "source": [
        "Los lunes, los clientes que pidan el menú del día tienen un descuento del 10%. \n",
        "\n",
        "Los martes, los clientes que pidan el menú infantil tienen un descuento del 20%. \n",
        "\n",
        "Los miércoles, los clientes que pidan el menú vegetariano tienen un descuento del 15%. \n",
        "\n",
        "Los jueves, los clientes que pidan el menú del chef tienen un descuento del 5%. \n",
        "\n",
        "Los viernes, los clientes que pidan el menú del día tienen un descuento del 5%. \n",
        "\n",
        "Los sábados y domingos no hay descuentos. Escribe un programa que calcule el precio a pagar por un cliente, tomando en cuenta los descuentos correspondientes."
      ]
    },
    {
      "cell_type": "code",
      "execution_count": null,
      "metadata": {
        "id": "1ebdVXuf8tLA",
        "colab": {
          "base_uri": "https://localhost:8080/"
        },
        "outputId": "b5b46a24-f7fa-478b-abbf-88867364794c"
      },
      "outputs": [
        {
          "output_type": "stream",
          "name": "stdout",
          "text": [
            "Tipos de Menú: \n",
            "(1)Menu del dia\n",
            "(2)Infantil\n",
            "(3)Vegetariano\n",
            "(4)Menú del chef\n",
            "\n",
            "Días de la semana: \n",
            "(1)Lunes\n",
            "(2)Martes\n",
            "(3)Miercoles\n",
            "(4)Jueves\n",
            "(5)Viernes\n",
            "(6)Fin de semana\n",
            "\n",
            "Digame su subtotal: $100\n",
            "Indique el tipo de menú: 3\n",
            "Indique dia que vino: 3\n",
            "Tiene un descuento de: 15%\n",
            "Su total es: $85.0\n"
          ]
        }
      ],
      "source": [
        "print (\"Tipos de Menú: \")\n",
        "print (\"(1)Menu del dia\\n(2)Infantil\\n(3)Vegetariano\\n(4)Menú del chef\")\n",
        "print (\"\\nDías de la semana: \")\n",
        "print (\"(1)Lunes\\n(2)Martes\\n(3)Miercoles\\n(4)Jueves\")\n",
        "print (\"(5)Viernes\\n(6)Fin de semana\\n\")\n",
        "comida = int(input(\"Digame su subtotal: $\"))\n",
        "menu = int(input(\"Indique el tipo de menú: \"))\n",
        "dia = int(input(\"Indique dia que vino: \"))\n",
        "\n",
        "if menu == dia:\n",
        "    if dia <= 2:\n",
        "        if dia == 2:\n",
        "            descuento = 20\n",
        "        else:\n",
        "            descuento = 10\n",
        "    else:\n",
        "        if dia == 3:\n",
        "            descuento = 15\n",
        "        elif dia == 4:\n",
        "            descuento = 5\n",
        "elif menu == 1 and dia == 5:\n",
        "    descuento = 5\n",
        "else:\n",
        "    descuento = 0\n",
        "total = comida - (comida * descuento / 100)\n",
        "\n",
        "print (f\"Tiene un descuento de: {descuento}%\")\n",
        "print (f\"Su total es: ${total}\")"
      ]
    }
  ],
  "metadata": {
    "colab": {
      "provenance": [],
      "include_colab_link": true
    },
    "kernelspec": {
      "display_name": "Python 3",
      "name": "python3"
    },
    "language_info": {
      "name": "python"
    }
  },
  "nbformat": 4,
  "nbformat_minor": 0
}