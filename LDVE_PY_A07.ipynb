{
  "nbformat": 4,
  "nbformat_minor": 0,
  "metadata": {
    "colab": {
      "provenance": [],
      "authorship_tag": "ABX9TyOdr9SFKsRdiaZ55QZQ33nq",
      "include_colab_link": true
    },
    "kernelspec": {
      "name": "python3",
      "display_name": "Python 3"
    },
    "language_info": {
      "name": "python"
    }
  },
  "cells": [
    {
      "cell_type": "markdown",
      "metadata": {
        "id": "view-in-github",
        "colab_type": "text"
      },
      "source": [
        "<a href=\"https://colab.research.google.com/github/LuisDanielVillalobos/clase-python/blob/main/LDVE_PY_A07.ipynb\" target=\"_parent\"><img src=\"https://colab.research.google.com/assets/colab-badge.svg\" alt=\"Open In Colab\"/></a>"
      ]
    },
    {
      "cell_type": "markdown",
      "source": [
        "1.- Función que utilice una lista con los nombres de tus mascotas, o artistas favoritos, (minimo 5, maximo 10) imprimir las cadenas y la cantidad de caracteres de cada cadena.  \n",
        "\n",
        "EJEMPLO SALIDA:\n",
        "\n",
        "[0]SCARLETT --> 8 CARACTERES\n",
        "\n",
        "[1]GATINA --> 6 CARACTERES\n",
        "\n",
        "[2]PELUSA --> 6 CARACTERES\n",
        "\n",
        "[3]PELUSINA --> 8 CARACTERES\n",
        "\n",
        "[4]MILO --> 4 CARACTERES\n",
        "\n",
        "[5]KHALIFA --> 7 CARACTERES\n",
        "\n",
        "\n",
        "\n",
        "2.- Programa que utilice 2 funciones, \n",
        "\n",
        "Función que genere y regrese una lista con 10 números aleatorios entre el 30 y 50 (no repetidos). \n",
        "Función que reciba una lista , Imprimir la lista (Indice y Valor )\n",
        "\n",
        "\n",
        " Mandar llamar la función e imprimir toda la lista. \n",
        "\n",
        "\n",
        "\n",
        "3.- Escribe una función que reciba dos listas de números del mismo tamaño y calcule la suma de los elementos correspondientes de cada lista. (regresar una nueva lista) . Luego, muestra una lista con los resultados de cada suma. Nota: si las listas no son del mismo tamaño mandar msge y utilizar el tamaño de la lista mas pequeña)\n",
        "\n",
        "\n",
        "\n",
        "4.- Escribe una función llamada eliminar_duplicados que reciba una lista como parámetro y elimine los elementos duplicados. El resultado debe ser una nueva lista sin duplicados. Pide al usuario que ingrese una lista y luego llama a la función eliminar_duplicados para mostrar la lista sin duplicados. (Solo Numeros enteros, validar)\n",
        "\n",
        "\n",
        "\n",
        "5.- Escribe una función que calcule la media y la mediana de una lista de números enteros. \n",
        "\n",
        "La media es la suma de todos los elementos y dividido entre la cantidad de elementos\n",
        "\n",
        "La mediana es el valor que queda en la mitad de la lista cuando se ordena de forma ascendente. Si la lista tiene un número par de elementos, la mediana se calcula como el promedio de los dos valores centrales. Puedes utilizar el método sort() para ordenar la lista y luego calcular la mediana según el tamaño de la lista.\n",
        "\n",
        "\n",
        "\n",
        "6.- Escribe una función que calcule la media móvil de una lista de números enteros. La media móvil es el promedio de un número determinado de elementos consecutivos de la lista. Puedes utilizar unciclo y una variable de suma para calcular la media móvil de cada sublista y guardar los resultados en otra lista."
      ],
      "metadata": {
        "id": "vCRS9cvSGCo9"
      }
    },
    {
      "cell_type": "markdown",
      "source": [
        "# b"
      ],
      "metadata": {
        "id": "_ohIG9XHbFyn"
      }
    },
    {
      "cell_type": "code",
      "source": [
        "import random\n",
        "from IPython.display import clear_output"
      ],
      "metadata": {
        "id": "-JfSW4khG3lc"
      },
      "execution_count": 1,
      "outputs": []
    },
    {
      "cell_type": "code",
      "source": [
        "def valinum (rf=64000,ri=-32000):\n",
        "    try:\n",
        "        num = int(input())\n",
        "        if ri > rf:\n",
        "            raise TypeError(\"El rango final es menor que el inicial\")            \n",
        "        if num > rf or num < ri:\n",
        "            print (\"VALOR INVALIDO\")\n",
        "            print (f\"El valor debe estar entre: '{ri} y {rf}'\")            \n",
        "        else:\n",
        "            return num    \n",
        "    except TypeError as e:\n",
        "        print (\"Error:\", e)\n",
        "    except ValueError:\n",
        "        print (\"Error: El número debe ser entero\")\n",
        "    except:\n",
        "        print (\"error\")\n"
      ],
      "metadata": {
        "id": "zQbhtRw_GKun"
      },
      "execution_count": 2,
      "outputs": []
    },
    {
      "cell_type": "code",
      "source": [
        "def valida_num(msge,msgError2=\"INGRESA UN VALOR NUMERICO ENTERO\"):\n",
        "    while True:\n",
        "        try:\n",
        "            num = int(input(f\"{msge}\"))\n",
        "        except:\n",
        "            print (msgError2)\n",
        "            continue\n",
        "        else:\n",
        "            break\n",
        "    return num"
      ],
      "metadata": {
        "id": "Lvpoxdgg2pQN"
      },
      "execution_count": 3,
      "outputs": []
    },
    {
      "cell_type": "markdown",
      "source": [
        "# funcion1"
      ],
      "metadata": {
        "id": "IOkqxKsAbLyt"
      }
    },
    {
      "cell_type": "code",
      "source": [
        "def Mascotas ():\n",
        "    clear_output()\n",
        "    mascotas = [\"DOKI\",\"NEGRITA\",\"BAMBAM\",\"KAKUN\",\"KITITO\"]\n",
        "    for i,cadena in enumerate(mascotas):\n",
        "        print (f\" {[i]}{cadena} tiene {len(cadena)} letras\")\n",
        "Mascotas()"
      ],
      "metadata": {
        "colab": {
          "base_uri": "https://localhost:8080/",
          "height": 0
        },
        "id": "Lpx8YrH5MEEl",
        "outputId": "27692ab8-24e4-4305-dc41-45be86d64edf"
      },
      "execution_count": 4,
      "outputs": [
        {
          "output_type": "stream",
          "name": "stdout",
          "text": [
            " [0]DOKI tiene 4 letras\n",
            " [1]NEGRITA tiene 7 letras\n",
            " [2]BAMBAM tiene 6 letras\n",
            " [3]KAKUN tiene 5 letras\n",
            " [4]KITITO tiene 6 letras\n"
          ]
        }
      ]
    },
    {
      "cell_type": "markdown",
      "source": [
        "# funcion2"
      ],
      "metadata": {
        "id": "uT4YYRVFbOSl"
      }
    },
    {
      "cell_type": "code",
      "source": [
        "def lista_aleatoria():\n",
        "    clear_output()\n",
        "    lista_random = []\n",
        "    while len(lista_random) < 10:\n",
        "        numero = random.randint(30, 50)\n",
        "        if numero not in lista_random:\n",
        "            lista_random.append(numero)\n",
        "    print(f\"Lista con aleatorios = {lista_random}\")\n",
        "    return lista_random\n",
        "def lista_indices():\n",
        "    clear_output()\n",
        "    print(\"LISTA CON INDICE Y VALOR\")\n",
        "    lista = []\n",
        "    print(\"Dime que tamaño deseas que tenga la lista:\")\n",
        "    tam = valinum\n",
        "    for i in range(tam):\n",
        "        print(f\"Dime el valor {i}: \")\n",
        "        num = valinum()\n",
        "        lista.append(num)\n",
        "    print(\"Lista con indice y valores: \")\n",
        "    for indice, valor in enumerate(lista):\n",
        "        print(f\"[{indice}]: {valor}\")"
      ],
      "metadata": {
        "id": "ntIXvMfZPxrS"
      },
      "execution_count": 5,
      "outputs": []
    },
    {
      "cell_type": "markdown",
      "source": [
        "# funcion3\n"
      ],
      "metadata": {
        "id": "D-lCh-VjyZ9u"
      }
    },
    {
      "cell_type": "code",
      "source": [
        "def suma_listas_padre():\n",
        "    clear_output()\n",
        "    print(\"SUMA LISTAS\")\n",
        "    def suma_listas(lista1,lista2):\n",
        "        if len(lista1) != len(lista2):\n",
        "            print(\"Diferente tamaño, se utilizara la menor\")\n",
        "            tam = min(len(lista1), len(lista2))\n",
        "        else:\n",
        "            tam = len(lista1)\n",
        "        \n",
        "        suma_listas = []\n",
        "        for i in range(tam):\n",
        "            suma = lista1[i] + lista2[i]\n",
        "            suma_listas.append(suma)\n",
        "        print(f\"Suma listas = {suma_listas}\")\n",
        "\n",
        "    lista1 = []\n",
        "    lista2 = []\n",
        "    print(\"Dime el tamaño para la lista 1: \")\n",
        "    tam_l1 = valinum()\n",
        "    for i in range(tam_l1):\n",
        "        print(f\"[{i}].-Dime un numero entero: \")\n",
        "        num = valinum()\n",
        "        lista1.append(num)\n",
        "        print(\"Dime el tamaño para la lista 2: \")\n",
        "    tam_l2 = valinum()\n",
        "    for i in range(tam_l2):\n",
        "        print\n",
        "        num = valinum()(f\"[{i}]Dime un numero entero: \")\n",
        "        lista2.append(num)\n",
        "    print(f\"Lista 1 : {lista1}\")\n",
        "    print(f\"Lista 2 : {lista2}\")\n",
        "    suma_listas(lista1,lista2)"
      ],
      "metadata": {
        "id": "FFu2ubmPfvae"
      },
      "execution_count": 6,
      "outputs": []
    },
    {
      "cell_type": "markdown",
      "source": [
        "# funcion4"
      ],
      "metadata": {
        "id": "6vjTes4DydSa"
      }
    },
    {
      "cell_type": "code",
      "source": [
        "def duplicados():\n",
        "    clear_output()\n",
        "    print(\"ELIMINAR DUPLICADOS DE UNA LISTA\")\n",
        "    def eliminar_duplicados(lista):\n",
        "        clear_output()\n",
        "        nueva_lista = []\n",
        "        for elemento in lista:\n",
        "            if elemento not in nueva_lista:\n",
        "                nueva_lista.append(elemento)\n",
        "        print(f\"Lista anterior = {lista}\")\n",
        "        print(f\"Nueva lista sin duplicados = {nueva_lista}\")\n",
        "\n",
        "    lista = []\n",
        "    tam_l = valida_num(\"Dime el tamaño para la lista: \")\n",
        "    for i in range(tam_l):\n",
        "        num = valida_num(f\"[{i}].-Dime un numero entero: \")\n",
        "        lista.append(num)\n",
        "    \n",
        "    eliminar_duplicados(lista)"
      ],
      "metadata": {
        "id": "-u70Wcl4x4mx"
      },
      "execution_count": 7,
      "outputs": []
    },
    {
      "cell_type": "markdown",
      "source": [
        "# funcion5"
      ],
      "metadata": {
        "id": "SbuoXkB1yejV"
      }
    },
    {
      "cell_type": "code",
      "source": [
        "def media_mediana(): \n",
        "    clear_output()\n",
        "    print(\"MEDIA Y MEDIANA DE UNA LISTA\")   \n",
        "    def calcular_media_mediana(lista):\n",
        "        \n",
        "        tam = len(lista)\n",
        "        lista_ordenada = sorted(lista)\n",
        "        \n",
        "        media = sum(lista) / tam\n",
        "        \n",
        "        if tam%2 == 0:\n",
        "            mediana = (lista_ordenada[tam//2 - 1] + lista_ordenada[tam//2]) / 2\n",
        "        else:\n",
        "            mediana = lista_ordenada[tam//2]\n",
        "        print(f\"La media es: {media}\")\n",
        "        print(f\"La mediana es: {mediana}\")\n",
        "    lista = []\n",
        "    print(\"Dime el tamaño para la lista: \")\n",
        "    tam_l = valinum()\n",
        "    for i in range(tam_l):\n",
        "        print(f\"[{i}].-Dime un numero entero: \")\n",
        "        num = valinum()\n",
        "        lista.append(num)\n",
        "    print(f\"Lista = {lista}\")\n",
        "    calcular_media_mediana(lista)"
      ],
      "metadata": {
        "id": "mOjj56bKyAMl"
      },
      "execution_count": 8,
      "outputs": []
    },
    {
      "cell_type": "markdown",
      "source": [
        "# funcion6"
      ],
      "metadata": {
        "id": "-UL6tRQDyfxU"
      }
    },
    {
      "cell_type": "code",
      "source": [
        "def med_movil_padre():\n",
        "    clear_output()\n",
        "    print(\"MEDIA MOVIL\")\n",
        "    def media_movil(lista, n):\n",
        "        lista_medias = []\n",
        "        for i in range(len(lista) - n + 1):\n",
        "            suma = 0\n",
        "            print(f\"Sublista {i+1}: {lista[i:i+n:]}\")\n",
        "            suma = sum(lista[i:i+n:])\n",
        "            print(f\"Media movil de la sublista {i+1}: {suma/n} \")\n",
        "            lista_medias.append(suma / n)\n",
        "        return lista_medias\n",
        "    lista = []\n",
        "    print(\"Dime el tamaño para la lista: \")\n",
        "    tam_l = valinum()\n",
        "    for i in range(tam_l):\n",
        "        print((f\"[{i}].-Dime un numero entero: \"))\n",
        "        num = valinum()\n",
        "        lista.append(num)\n",
        "        print(\"Dime de cuantos elementos deseas calcular la media movil: \")\n",
        "    n = valinum()\n",
        "\n",
        "    \n",
        "    lista_medias = media_movil(lista, n)\n",
        "    print(f\"Lista media movil: {lista_medias}\")"
      ],
      "metadata": {
        "id": "-9eTZ23_yKUN"
      },
      "execution_count": 9,
      "outputs": []
    },
    {
      "cell_type": "markdown",
      "source": [
        "# Todo"
      ],
      "metadata": {
        "id": "SVui8UWMy1Dy"
      }
    },
    {
      "cell_type": "code",
      "source": [
        "def submenu_programas2():\n",
        "    while True:\n",
        "        clear_output()\n",
        "        print(\"SUBMENU\")\n",
        "        print(\"1.-LISTA CON NUMEROS ALEATORIOS\")\n",
        "        print(\"2.-LISTA QUE RECIBE UNA LISTA E IMPRIME INDICE Y VALOR\")\n",
        "        print(\"0.-SALIR AL MENU\")\n",
        "        print(\"Escoja opcion\")\n",
        "        op = valinum (rf=2,ri=0)\n",
        "        if op == 1:\n",
        "            lista_aleatoria()\n",
        "            input(\"Presiona ENTER para borrar la pantalla\")\n",
        "            clear_output()\n",
        "            continue\n",
        "        elif op == 2:\n",
        "            lista_indices()\n",
        "            input(\"Presiona ENTER para borrar la pantalla\")\n",
        "            clear_output()\n",
        "        elif op == 0:\n",
        "            clear_output()\n",
        "            break"
      ],
      "metadata": {
        "id": "lOj6sz3fzC18"
      },
      "execution_count": 10,
      "outputs": []
    },
    {
      "cell_type": "code",
      "source": [
        "def menu():\n",
        "    print(\"MENU:\")\n",
        "    print(\"1.-LISTA MASCOTAS\")\n",
        "    print(\"2.-FUNCION LISTA CON NUMEROS ALEATORIOS Y FUNCION LISTA INDICE Y VALOR\")\n",
        "    print(\"3.-SUMA LISTAS\")\n",
        "    print(\"4.-ELIMINAR DUPLICADOS DE UNA LISTA\")\n",
        "    print(\"5.-MEDIA Y MEDIANA DE UNA LISTA\")\n",
        "    print(\"6.-MEDIA MOVIL DE UNA LISTA\")\n",
        "    print(\"0.-SALIR\")"
      ],
      "metadata": {
        "id": "lAMtAvH5zBm5"
      },
      "execution_count": 11,
      "outputs": []
    },
    {
      "cell_type": "code",
      "source": [
        "while True:\n",
        "    menu()\n",
        "    print (\"Seleccione su opción\")\n",
        "    op = valinum (rf=6,ri=0)\n",
        "    if op == 1:\n",
        "        Mascotas()\n",
        "        input(\"Presiona ENTER\")\n",
        "        clear_output()\n",
        "        continue\n",
        "    elif op == 2:\n",
        "        submenu_programas2()\n",
        "        continue\n",
        "    elif op == 3:\n",
        "        suma_listas_padre()\n",
        "        input(\"Presiona ENTER\")\n",
        "        clear_output()\n",
        "        continue\n",
        "    elif op == 4:\n",
        "        duplicados()\n",
        "        input(\"Presiona ENTER\")\n",
        "        clear_output()\n",
        "    elif op == 5:\n",
        "        media_mediana()\n",
        "        input(\"Presiona ENTER\")\n",
        "        clear_output()\n",
        "    elif op == 6:\n",
        "        med_movil_padre()\n",
        "        input(\"Presiona ENTER\")\n",
        "        clear_output()\n",
        "    elif op == 0:\n",
        "        break"
      ],
      "metadata": {
        "colab": {
          "base_uri": "https://localhost:8080/",
          "height": 0
        },
        "id": "FHzEQ54oy40t",
        "outputId": "572cc29e-3155-4e3b-fa54-5fb6dab50acd"
      },
      "execution_count": 12,
      "outputs": [
        {
          "name": "stdout",
          "output_type": "stream",
          "text": [
            "MENU:\n",
            "1.-LISTA MASCOTAS\n",
            "2.-FUNCION LISTA CON NUMEROS ALEATORIOS Y FUNCION LISTA INDICE Y VALOR\n",
            "3.-SUMA LISTAS\n",
            "4.-ELIMINAR DUPLICADOS DE UNA LISTA\n",
            "5.-MEDIA Y MEDIANA DE UNA LISTA\n",
            "6.-MEDIA MOVIL DE UNA LISTA\n",
            "0.-SALIR\n",
            "Seleccione su opción\n",
            "0\n"
          ]
        }
      ]
    }
  ]
}