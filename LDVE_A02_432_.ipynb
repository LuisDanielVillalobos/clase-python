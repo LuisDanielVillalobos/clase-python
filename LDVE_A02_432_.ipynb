{
  "nbformat": 4,
  "nbformat_minor": 0,
  "metadata": {
    "colab": {
      "provenance": [],
      "toc_visible": true,
      "authorship_tag": "ABX9TyOOgaR0rxSDfnYwhDtiaWQu",
      "include_colab_link": true
    },
    "kernelspec": {
      "name": "python3",
      "display_name": "Python 3"
    },
    "language_info": {
      "name": "python"
    }
  },
  "cells": [
    {
      "cell_type": "markdown",
      "metadata": {
        "id": "view-in-github",
        "colab_type": "text"
      },
      "source": [
        "<a href=\"https://colab.research.google.com/github/LuisDanielVillalobos/clase-python/blob/main/LDVE_A02_432_.ipynb\" target=\"_parent\"><img src=\"https://colab.research.google.com/assets/colab-badge.svg\" alt=\"Open In Colab\"/></a>"
      ]
    },
    {
      "cell_type": "markdown",
      "source": [
        "# Condiciones simples"
      ],
      "metadata": {
        "id": "keCMJ9B25-9J"
      }
    },
    {
      "cell_type": "markdown",
      "source": [
        "## 1.- Programa en Python que lea 2 números enteros, usar una condición y analizar los dos números y desplegar cual de los números es el mayor. 1\n"
      ],
      "metadata": {
        "id": "XhX5WCBa50ux"
      }
    },
    {
      "cell_type": "code",
      "source": [
        "num1 = int(input(\"Escriba un numero: \"))\n",
        "num2 = int(input(\"Escriba otro numero: \"))\n",
        "if num1 < num2:\n",
        "    print (f\"El numero {num2} es el mayor\")\n",
        "if num2 < num1:\n",
        "    print (f\"El numero {num1} es el mayor\")"
      ],
      "metadata": {
        "colab": {
          "base_uri": "https://localhost:8080/",
          "height": 0
        },
        "id": "8eYdtfOA57NO",
        "outputId": "3c678d33-9efd-4906-96fa-f676afa1ffea"
      },
      "execution_count": 8,
      "outputs": [
        {
          "output_type": "stream",
          "name": "stdout",
          "text": [
            "Escriba un numero: 2\n",
            "Escriba otro numero: 4\n",
            "El numero 4 es el mayor\n"
          ]
        }
      ]
    },
    {
      "cell_type": "markdown",
      "source": [
        "## 2.- Programa en PythonAlgoritmo que lea 4 calificaciones de un alumno, calcular y desplegar el promedio acompañado de la leyenda \"APROBADO\" o \"REPROBADO\""
      ],
      "metadata": {
        "id": "sx2qr30a57b0"
      }
    },
    {
      "cell_type": "code",
      "source": [
        "print (\"Escriba cuatro calificaciones: \")\n",
        "calif1 = int(input(\"Primera: \"))\n",
        "calif2 = int(input(\"Segunda: \"))\n",
        "calif3 = int(input(\"Tercera: \"))\n",
        "calif4 = int(input(\"Cuarta: \"))\n",
        "prom = (calif1 + calif2 + calif3 + calif4) / 4\n",
        "print (f\"Su promedio es {prom}\")\n",
        "if prom >=60:\n",
        "    print (\"APROVADO!\")\n",
        "if prom <60:\n",
        "    print (\"REPROBADO\")\n",
        "\n",
        "\n"
      ],
      "metadata": {
        "colab": {
          "base_uri": "https://localhost:8080/",
          "height": 0
        },
        "id": "8qfv1ekO57xj",
        "outputId": "7ab39c19-b22b-486b-e717-96698086165c"
      },
      "execution_count": 9,
      "outputs": [
        {
          "output_type": "stream",
          "name": "stdout",
          "text": [
            "Escriba cuatro calificaciones: \n",
            "Primera: 88\n",
            "Segunda: 76\n",
            "Tercera: 94\n",
            "Cuarta: 30\n",
            "Su promedio es 72.0\n",
            "APROVADO!\n"
          ]
        }
      ]
    },
    {
      "cell_type": "markdown",
      "source": [],
      "metadata": {
        "id": "nqwH0ved4PbD"
      }
    },
    {
      "cell_type": "markdown",
      "source": [
        "## 3.- Programa en PythonAlgoritmo que a través de opciones (1.- HOMBRE 2.- MUJER ) preguntar al usuario cual es su sexo y desplegar la leyenda “HOMBRE ”, “MUJER”"
      ],
      "metadata": {
        "id": "t2A4FmhK579D"
      }
    },
    {
      "cell_type": "code",
      "source": [
        "print (\"Escriba el numero que represente su sexo\")\n",
        "opc = int(input(\"(1): Hombre \\n(2): Mujer \\n\"))\n",
        "if opc == 1:\n",
        "    print (\"Hombre\")\n",
        "if opc == 2:\n",
        "    print (\"Mujer\")\n"
      ],
      "metadata": {
        "colab": {
          "base_uri": "https://localhost:8080/",
          "height": 0
        },
        "id": "KR1Mcm7r58F5",
        "outputId": "e01116a6-80cd-44d6-d881-3f417b8cd3ce"
      },
      "execution_count": 10,
      "outputs": [
        {
          "output_type": "stream",
          "name": "stdout",
          "text": [
            "Escriba el numero que represente su sexo\n",
            "(1): Hombre \n",
            "(2): Mujer \n",
            "2\n",
            "Mujer\n"
          ]
        }
      ]
    },
    {
      "cell_type": "markdown",
      "source": [
        "## 4.- Programa en Python que lea un número entero, y desplegar si el número es “PAR” o “IMPAR”\n",
        "\n"
      ],
      "metadata": {
        "id": "3x5--rhP58Sm"
      }
    },
    {
      "cell_type": "code",
      "source": [
        "num = int(input(\"Escriba un número entero: \"))\n",
        "if num % 2 == 0:\n",
        "    print (\"Es número par\")\n",
        "if num % 2 != 0:\n",
        "    print (\"Es número impar\")"
      ],
      "metadata": {
        "colab": {
          "base_uri": "https://localhost:8080/",
          "height": 0
        },
        "id": "WeuJDRf-6WGP",
        "outputId": "39c09704-5777-4812-8464-e3fec7de8465"
      },
      "execution_count": 11,
      "outputs": [
        {
          "output_type": "stream",
          "name": "stdout",
          "text": [
            "Escriba un número entero: 2\n",
            "Es número par\n"
          ]
        }
      ]
    },
    {
      "cell_type": "markdown",
      "source": [
        "# Condicion compuesta"
      ],
      "metadata": {
        "id": "JgL3b8BH6pGV"
      }
    },
    {
      "cell_type": "markdown",
      "source": [
        "## 5.- Programa en Python que lea 2 números enteros, usar una condición y analizar los dos números y desplegar cual de los números es el mayor."
      ],
      "metadata": {
        "id": "eaAzko3_6-Ih"
      }
    },
    {
      "cell_type": "code",
      "source": [
        "num1 = int(input(\"Escriba un número entero: \"))\n",
        "num2 = int(input(\"Escriba otro: \"))\n",
        "if num1 > num2:\n",
        "    print (f\"El numero mayor es: {num1}\")\n",
        "else:\n",
        "    print (f\"El numero mayor es: {num2}\")\n"
      ],
      "metadata": {
        "id": "k7OOpJsA7Oot",
        "colab": {
          "base_uri": "https://localhost:8080/",
          "height": 0
        },
        "outputId": "1b68c09f-cfeb-4c28-cc59-ec3b382cba41"
      },
      "execution_count": 12,
      "outputs": [
        {
          "output_type": "stream",
          "name": "stdout",
          "text": [
            "Escriba un número entero: 3\n",
            "Escriba otro: 5\n",
            "El numero mayor es: 5\n"
          ]
        }
      ]
    },
    {
      "cell_type": "markdown",
      "source": [
        "## 6.- Programa en Python que lea 4 calificaciones de un alumno, calcular y desplegar el promedio acompañado de la leyenda APROBADO o REPROBADO"
      ],
      "metadata": {
        "id": "G0iCcvd4695Z"
      }
    },
    {
      "cell_type": "code",
      "source": [
        "print (\"Escriba cuatro calificaciones: \")\n",
        "calif1 = int(input(\"Primera: \"))\n",
        "calif2 = int(input(\"Segunda: \"))\n",
        "calif3 = int(input(\"Tercera: \"))\n",
        "calif4 = int(input(\"Cuarta: \"))\n",
        "prom = (calif1 + calif2 + calif3 + calif4) / 4\n",
        "print (f\"Su promedio es {prom}\")\n",
        "if prom >=60:\n",
        "    print (\"APROVADO!\")\n",
        "else:\n",
        "    print (\"REPROBADO\")\n",
        "\n"
      ],
      "metadata": {
        "id": "827mP_Fa7PDv",
        "colab": {
          "base_uri": "https://localhost:8080/",
          "height": 0
        },
        "outputId": "1e95cdb2-b1e6-449c-e160-c367f2c5e459"
      },
      "execution_count": 13,
      "outputs": [
        {
          "output_type": "stream",
          "name": "stdout",
          "text": [
            "Escriba cuatro calificaciones: \n",
            "Primera: 40\n",
            "Segunda: 100\n",
            "Tercera: 50\n",
            "Cuarta: 10\n",
            "Su promedio es 50.0\n",
            "REPROBADO\n"
          ]
        }
      ]
    },
    {
      "cell_type": "markdown",
      "source": [
        "## 7.- Programa en Python que a través de opciones (1.- HOMBRE 2.- MUJER ) preguntar al usuario cual es su sexo y desplegar la leyenda “HOMBRE ”, “MUJER”"
      ],
      "metadata": {
        "id": "PvxVRrox69db"
      }
    },
    {
      "cell_type": "code",
      "source": [
        "print (\"Escriba el numero que represente su sexo\")\n",
        "opc = int(input(\"(1): Hombre \\n(2): Mujer \\n\"))\n",
        "if opc == 1:\n",
        "    print (\"Hombre\")\n",
        "else:\n",
        "    print (\"Mujer\")"
      ],
      "metadata": {
        "id": "0y4d-6PB7PbM",
        "colab": {
          "base_uri": "https://localhost:8080/",
          "height": 0
        },
        "outputId": "9c3e24df-b262-4b68-8451-a6f9c85baa25"
      },
      "execution_count": 14,
      "outputs": [
        {
          "output_type": "stream",
          "name": "stdout",
          "text": [
            "Escriba el numero que represente su sexo\n",
            "(1): Hombre \n",
            "(2): Mujer \n",
            "2\n",
            "Mujer\n"
          ]
        }
      ]
    },
    {
      "cell_type": "markdown",
      "source": [
        "## 8.- Programa en Python que lea un número entero, y desplegar si el número es “PAR” o “IMPAR” NOTA: EJERCICIOS PARA SER RESUELTOS USANDO EXCLUSIVAMENTE CONDICIONES COMPUESTO"
      ],
      "metadata": {
        "id": "bfP4f3CO67A9"
      }
    },
    {
      "cell_type": "code",
      "source": [
        "num = int(input(\"Escriba un número entero: \"))\n",
        "if num % 2 == 0:\n",
        "    print (\"Es número par\")\n",
        "else:\n",
        "    print (\"Es número impar\")"
      ],
      "metadata": {
        "id": "kKSvdmRt7QGo",
        "colab": {
          "base_uri": "https://localhost:8080/",
          "height": 0
        },
        "outputId": "7798874d-d504-4118-f64b-d782f556d49a"
      },
      "execution_count": 18,
      "outputs": [
        {
          "output_type": "stream",
          "name": "stdout",
          "text": [
            "Escriba un número entero: 3\n",
            "Es número impar\n"
          ]
        }
      ]
    }
  ]
}