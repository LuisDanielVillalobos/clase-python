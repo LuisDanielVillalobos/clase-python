{
  "nbformat": 4,
  "nbformat_minor": 0,
  "metadata": {
    "colab": {
      "provenance": [],
      "authorship_tag": "ABX9TyPfOQhz/7NV/OoCiQAXUkhu",
      "include_colab_link": true
    },
    "kernelspec": {
      "name": "python3",
      "display_name": "Python 3"
    },
    "language_info": {
      "name": "python"
    }
  },
  "cells": [
    {
      "cell_type": "markdown",
      "metadata": {
        "id": "view-in-github",
        "colab_type": "text"
      },
      "source": [
        "<a href=\"https://colab.research.google.com/github/LuisDanielVillalobos/clase-python/blob/main/LDVE_PY_A04.ipynb\" target=\"_parent\"><img src=\"https://colab.research.google.com/assets/colab-badge.svg\" alt=\"Open In Colab\"/></a>"
      ]
    },
    {
      "cell_type": "markdown",
      "source": [
        "# 1.- Algoritmo que lea 3 calificaciones calcule el promedio del alumno y desplegar: \n"
      ],
      "metadata": {
        "id": "XCxxYsiO8IBh"
      }
    },
    {
      "cell_type": "markdown",
      "source": [
        "Si prom < 30 Repetir\n",
        "\n",
        "Si prom >=30 y prom <60 extraordinario\n",
        "\n",
        "Si prom >=60 y prom <70 suficiente\n",
        "\n",
        "Si prom >=70 y prom <80 Regular\n",
        "\n",
        "Si prom >=80 y prom <90 bien\n",
        "\n",
        "Si prom >=90 y prom <98 muy bien\n",
        "\n",
        "Si prom >=98 y prom <=100 excelente\n",
        "\n",
        "Si prom >100 Error en promedio\n",
        "\n",
        "Realizar el algoritmo optimizado"
      ],
      "metadata": {
        "id": "26sKR1Kq7_iT"
      }
    },
    {
      "cell_type": "code",
      "source": [
        "try:\n",
        "    calif1 = int(input(\"Escribame 3 calificaciones: \"))\n",
        "    calif2 = int(input(\"Segunda: \"))\n",
        "    calif3 = int(input(\"Tercera: \"))\n",
        "    prom = (calif1 + calif2 + calif3) / 3\n",
        "    print (f\"Su promedio es: {prom}\")\n",
        "    if prom >= 80:\n",
        "        if prom < 90:\n",
        "            print (\"BIEN\")\n",
        "        elif prom < 98:\n",
        "            print (\"MUY BIEN\")\n",
        "        else:\n",
        "            if prom <= 100:\n",
        "                print (\"EXCElENTE\")\n",
        "            else:\n",
        "                print (\"ERROR\")\n",
        "    elif prom < 80:\n",
        "        if prom >= 70:\n",
        "            print (\"REGULAR\")\n",
        "        elif prom >= 60:\n",
        "            print (\"SUFICIENTE\")\n",
        "        else:\n",
        "            if prom >= 30:\n",
        "                print (\"EXTRAORDINARIO\")\n",
        "            else:\n",
        "                print (\"REPETIR\")\n",
        "    else:\n",
        "        print (\"?\")\n",
        "except ValueError:\n",
        "    print(\"Error: Los valores ingresados deben ser números enteros.\")"
      ],
      "metadata": {
        "colab": {
          "base_uri": "https://localhost:8080/"
        },
        "id": "SGlZbZAK8KKZ",
        "outputId": "6a2dd042-5066-431b-9745-fcec817429a9"
      },
      "execution_count": null,
      "outputs": [
        {
          "output_type": "stream",
          "name": "stdout",
          "text": [
            "Escribame 3 calificaciones: 51\n",
            "Segunda: 68\n",
            "Tercera: 95\n",
            "Su promedio es: 71.33333333333333\n",
            "REGULAR\n"
          ]
        }
      ]
    },
    {
      "cell_type": "markdown",
      "source": [
        "# 2.- Algoritmo que sirva para calcular el salario semanal de un trabajador donde se obtiene como dato de entrada las horas semanales trabajadas, el salario por hora."
      ],
      "metadata": {
        "id": "GC3DRHd68WhK"
      }
    },
    {
      "cell_type": "markdown",
      "source": [
        "El programa deberá calcular el salario normal, salario extra y salario total, considerando lo siguiente:\n",
        "\n",
        "Jornada Normal de 40 horas. El salario normal se considera las horas trabajadas menores o igual a la jornada normal Salario extra se considera las horas trabajadas mayores a la jornada normal y se pagan dobles las primeras 9 y triples a partir de la décima hora extra\n",
        "\n",
        "Nota: Desplegar todos los datos (Salario x hora, Horas Trabajadas, Salario normal, Salario extra y Salario Total)"
      ],
      "metadata": {
        "id": "FqwBSGRP8W1R"
      }
    },
    {
      "cell_type": "code",
      "source": [
        "try:\n",
        "    horas = int(input(\"Cuantas horas trabajo?\"))\n",
        "    pagaxhora = int(input(\"Cuanto es su sueldo por hora?\"))\n",
        "    if horas <= 40:\n",
        "        salanormal = horas * pagaxhora\n",
        "        salaextra = 0\n",
        "    elif horas < 50:\n",
        "        salaextra = (horas - 40) * pagaxhora * 2\n",
        "        salanormal = 40 * pagaxhora\n",
        "    else:\n",
        "        salaextra = (9 * pagaxhora * 2) + ((horas - 49) * pagaxhora * 3)\n",
        "        salanormal = 40 * pagaxhora\n",
        "    salario = salanormal + salaextra\n",
        "    print (f\"Horas trabajadas {horas}\\nSalaraio por hora: {pagaxhora}$\")\n",
        "    print (f\"Salario normal {salanormal}$\\nSalaraio extra: {salaextra}$\")\n",
        "    print (f\"Paga total: {salario}$\")\n",
        "except ValueError:\n",
        "    print(\"Error: Los valores ingresados deben ser números enteros.\")\n"
      ],
      "metadata": {
        "colab": {
          "base_uri": "https://localhost:8080/"
        },
        "id": "iOcKRzO18W_K",
        "outputId": "5a5d81c5-5976-453c-e78e-31af90e31129"
      },
      "execution_count": null,
      "outputs": [
        {
          "output_type": "stream",
          "name": "stdout",
          "text": [
            "Cuantas horas trabajo?40\n",
            "Cuanto es su sueldo por hora?10\n",
            "Horas trabajadas 40\n",
            "Salaraio por hora: 10$\n",
            "Salario normal 400$\n",
            "Salaraio extra: 0$\n",
            "Paga total: 400$\n"
          ]
        }
      ]
    },
    {
      "cell_type": "markdown",
      "source": [
        "# 3.- Algoritmo que sirva para calcular el Total a pagar por consumo de agua, donde el dato de entrada son los M3 de agua consumidos, Tomar en cuenta que se cobra escalonada de la Siguiente manera:"
      ],
      "metadata": {
        "id": "Fn2PXQZ78sSq"
      }
    },
    {
      "cell_type": "markdown",
      "source": [
        "Rango1: 0 al 4 M3 $50 x facturación sin importar cuánto consumió en este rango \n",
        "\n",
        "Rango2: 5 a 15 M3 $8.00 x M3 \n",
        "\n",
        "Rango3: 16 a 50 M3 $10.00 x M3 \n",
        "\n",
        "Rango4: 51 M3 en adelante $11.00 x M3 \n",
        "\n",
        "Nota: Desplegar SubTotal, Iva(16%), y Total a pagar."
      ],
      "metadata": {
        "id": "zEbw2-sh8sUy"
      }
    },
    {
      "cell_type": "code",
      "source": [
        "try:\n",
        "    consumo = int(input(\"¿Cuántos m^3 de agua consumio? :\"))\n",
        "    if consumo < 5:\n",
        "        subtotal = 50\n",
        "    elif consumo < 51:\n",
        "        if consumo < 16:\n",
        "            subtotal = consumo * 8\n",
        "        else:\n",
        "            subtotal = consumo * 10\n",
        "    else:\n",
        "        subtotal = consumo * 11\n",
        "    iva = subtotal * 0.16\n",
        "    total = subtotal + iva\n",
        "    print (f\"Subtotal: ${subtotal}\")\n",
        "    print (f\"Iva: ${round(iva, 2)}\\nTotal: ${round(total, 2)}\")\n",
        "except ValueError:\n",
        "    print(\"Error: Los valores ingresados deben ser números enteros.\")"
      ],
      "metadata": {
        "colab": {
          "base_uri": "https://localhost:8080/"
        },
        "id": "TrWHRCNW8scS",
        "outputId": "6401a70d-ee80-45be-c048-81c38a4d40c1"
      },
      "execution_count": 67,
      "outputs": [
        {
          "output_type": "stream",
          "name": "stdout",
          "text": [
            "¿Cuántos m^3 de agua consumio? :190\n",
            "Subtotal: $2090\n",
            "Iva: $334.4\n",
            "Total: $2424.4\n"
          ]
        }
      ]
    },
    {
      "cell_type": "markdown",
      "source": [
        "# 4.- En la materia de Metodología de la programación se aplican 5 exámenes, calcular el promedio final de la materia donde la calificación menor de los exámenes se anula y el promedio se calcula en base a 4 exámenes."
      ],
      "metadata": {
        "id": "29u4y2xP9fId"
      }
    },
    {
      "cell_type": "code",
      "source": [
        "try:\n",
        "    print (\"Escribame sus 5 calificaciones del examen: \")\n",
        "    calif1 = int(input(\"Primera: \"))\n",
        "    calif2 = int(input(\"Segunda: \"))\n",
        "    calif3 = int(input(\"Tercera: \"))\n",
        "    calif4 = int(input(\"Cuarta: \"))\n",
        "    calif5 = int(input(\"Quinta: \"))\n",
        "    menor = min(calif1, calif2, calif3, calif4, calif5)\n",
        "    prom = (calif1 + calif2 + calif3 + calif4 + calif5 - menor) / 4\n",
        "    print (f\"La calificación menor es: {menor}\")\n",
        "    print (f\"Su proedio sin la menor es: {round(prom, 2)}\")\n",
        "except ValueError:\n",
        "    print(\"Error: Los valores ingresados deben ser números enteros.\")"
      ],
      "metadata": {
        "colab": {
          "base_uri": "https://localhost:8080/"
        },
        "id": "7We-SnhE9fTi",
        "outputId": "61bd1b35-812b-4c07-ca08-02183c5a9d2d"
      },
      "execution_count": 68,
      "outputs": [
        {
          "output_type": "stream",
          "name": "stdout",
          "text": [
            "Escribame sus 5 calificaciones del examen: \n",
            "Primera: 76\n",
            "Segunda: 98\n",
            "Tercera: 98\n",
            "Cuarta: 98\n",
            "Quinta: 98\n",
            "La calificación menor es: 76\n",
            "Su proedio sin la menor es: 98.0\n"
          ]
        }
      ]
    },
    {
      "cell_type": "markdown",
      "source": [
        "# 5.- Programa en Python que sirva para el juego del CHINCHAMPU (Piedra, Papel, Tijera) para 1 jugador y la computadora"
      ],
      "metadata": {
        "id": "J7knDASX9pFq"
      }
    },
    {
      "cell_type": "code",
      "source": [
        "import random\n",
        "try:\n",
        "    print (\"Chin Chan Pu\")\n",
        "    print (\"Piedra, papel o tijera!\")\n",
        "    print (\"(1)Piedra\\n(2)Papel\\n(3)Tijera\")\n",
        "    mano = int(input(\"Escoja su jugada: \"))\n",
        "    comp = random.randint(1, 3)\n",
        "\n",
        "    if mano == comp:\n",
        "        print (\"Elegí lo mismo\\nEs un empate!\")\n",
        "    elif mano ==  1:\n",
        "        if comp == 2:\n",
        "            print (\"Yo elijo papel\\nPerdiste!\")\n",
        "        else:\n",
        "            print (\"Yo elijo tijera\\nGanaste!\")\n",
        "    elif mano == 2:\n",
        "        if comp == 3:\n",
        "            print (\"Yo elijo tijera\\nPerdiste!\")\n",
        "        else:\n",
        "            print (\"Yo elijo piedra\\nGanaste!\")\n",
        "    elif mano == 3:\n",
        "        if comp == 1:\n",
        "            print (\"Yo elijo piedra\\nPerdiste!\")\n",
        "        else:\n",
        "            print (\"Yo elijo papel\\nGanaste!\")\n",
        "    else:\n",
        "        print (\"Error: Solo puedes introducir una de las opciones\")\n",
        "\n",
        "except ValueError:\n",
        "    print (\"Error: Solo puedes introducir una de las opciones\")"
      ],
      "metadata": {
        "id": "kzf2_DoU9pLi",
        "colab": {
          "base_uri": "https://localhost:8080/"
        },
        "outputId": "925af328-c782-4b3d-fdad-0ebb201bc15b"
      },
      "execution_count": 66,
      "outputs": [
        {
          "output_type": "stream",
          "name": "stdout",
          "text": [
            "Chin Chan Pu\n",
            "Piedra, papel o tijera!\n",
            "(1)Piedra\n",
            "(2)Papel\n",
            "(3)Tijera\n",
            "Escoja su jugada: 4\n",
            "Error: Solo puedes introducir una de las opciones\n"
          ]
        }
      ]
    },
    {
      "cell_type": "markdown",
      "source": [
        "# 6.- Programa en Python que lea 4 números enteros desplegar cuales el menor, cual es mayor\n",
        "\n"
      ],
      "metadata": {
        "id": "kTka_Ro291Oq"
      }
    },
    {
      "cell_type": "code",
      "source": [
        "try:\n",
        "    num1 = int(input(\"Dime 4 numeros\\nPrimero: \"))\n",
        "    num2 = int(input(\"Segundo: \"))\n",
        "    num3 = int(input(\"Tercero: \"))\n",
        "    num4 = int(input(\"Cuarto: \"))\n",
        "    print (f\"El numero menor es: {min(num1, num2, num3, num4)}\")\n",
        "    print (f\"El numero mayor es: {max(num1, num2, num3, num4)}\")\n",
        "except ValueError:\n",
        "    print(\"Error: Los valores ingresados deben ser números enteros.\")"
      ],
      "metadata": {
        "id": "u2QniHSy98ES",
        "colab": {
          "base_uri": "https://localhost:8080/"
        },
        "outputId": "85fb42f0-5ca4-464a-c43d-820fc0d7f145"
      },
      "execution_count": null,
      "outputs": [
        {
          "output_type": "stream",
          "name": "stdout",
          "text": [
            "Dime 4 numeros\n",
            "Primero: \n",
            "Error: Los valores ingresados deben ser números enteros.\n"
          ]
        }
      ]
    },
    {
      "cell_type": "markdown",
      "source": [
        "# 7.- Programa en Python que sirva para calcular el área de un triangulo, los datos de entrada deben ser forzosamente de tipo real"
      ],
      "metadata": {
        "id": "4G5WYbkJ98VC"
      }
    },
    {
      "cell_type": "code",
      "source": [
        "try:\n",
        "    base = float(input(\"Digame la base del triangulo: \"))\n",
        "    altura = float(input(\"Digame la altura del triangulo: \"))\n",
        "    area = base * altura / 2\n",
        "    print (f\"El area del triangulo es: {round(area, 2)}\")\n",
        "\n",
        "except ValueError:\n",
        "    print (\"Error: Los valores ingresados deben ser Números reales\")"
      ],
      "metadata": {
        "id": "ZxQDsMbO9_LC",
        "colab": {
          "base_uri": "https://localhost:8080/"
        },
        "outputId": "945b2c57-e440-4bfa-9bba-16b53de4be2e"
      },
      "execution_count": null,
      "outputs": [
        {
          "output_type": "stream",
          "name": "stdout",
          "text": [
            "Digame la base del triangulo: 124.12\n",
            "Digame la altura del triangulo: 15.532\n",
            "El area del triangulo es: 963.92\n"
          ]
        }
      ]
    },
    {
      "cell_type": "markdown",
      "source": [
        "# 8.- Programa en Python que sirva para calcular el área de un circulo"
      ],
      "metadata": {
        "id": "Zf141SZQ9_PD"
      }
    },
    {
      "cell_type": "code",
      "source": [
        "try:\n",
        "    radio = float(input(\"Digame el radio del circulo: \"))\n",
        "    area = 3.141592 * pow(radio, 2)\n",
        "    print (f\"El area del circulo es: {round(area, 2)}\")\n",
        "\n",
        "except ValueError:\n",
        "    print (\"Error: Los valores ingresados deben ser Números reales\")"
      ],
      "metadata": {
        "id": "Ol-osb6p-COK",
        "colab": {
          "base_uri": "https://localhost:8080/"
        },
        "outputId": "b9497c67-5954-4a56-b0f9-8123bdee291f"
      },
      "execution_count": null,
      "outputs": [
        {
          "output_type": "stream",
          "name": "stdout",
          "text": [
            "Digame el radio del circulo: 41.2\n",
            "El area del circulo es: 5332.66\n"
          ]
        }
      ]
    }
  ]
}