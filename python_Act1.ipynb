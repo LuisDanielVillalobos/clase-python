{
  "nbformat": 4,
  "nbformat_minor": 0,
  "metadata": {
    "colab": {
      "provenance": [],
      "authorship_tag": "ABX9TyMlILQxOP6QwV66XV418PSJ",
      "include_colab_link": true
    },
    "kernelspec": {
      "name": "python3",
      "display_name": "Python 3"
    },
    "language_info": {
      "name": "python"
    }
  },
  "cells": [
    {
      "cell_type": "markdown",
      "metadata": {
        "id": "view-in-github",
        "colab_type": "text"
      },
      "source": [
        "<a href=\"https://colab.research.google.com/github/LuisDanielVillalobos/clase-python/blob/main/python_Act1.ipynb\" target=\"_parent\"><img src=\"https://colab.research.google.com/assets/colab-badge.svg\" alt=\"Open In Colab\"/></a>"
      ]
    },
    {
      "cell_type": "markdown",
      "source": [
        "# 1.- Programa en Python Mostrar un mensaje que diga “HOLA MUNDO” en un solo renglón usando 2 print"
      ],
      "metadata": {
        "id": "EQTQE2AqFSVx"
      }
    },
    {
      "cell_type": "code",
      "source": [
        "print(\"HOLA\", end=\" \"), print(\"MUNDO!\")"
      ],
      "metadata": {
        "colab": {
          "base_uri": "https://localhost:8080/"
        },
        "id": "oEwEpuEjtZn3",
        "outputId": "9a51e748-0bcb-448c-c065-a601e666b371"
      },
      "execution_count": 35,
      "outputs": [
        {
          "output_type": "stream",
          "name": "stdout",
          "text": [
            "HOLA MUNDO!\n"
          ]
        },
        {
          "output_type": "execute_result",
          "data": {
            "text/plain": [
              "(None, None)"
            ]
          },
          "metadata": {},
          "execution_count": 35
        }
      ]
    },
    {
      "cell_type": "markdown",
      "source": [
        "# 2.- Programa en Python que lea 2 números, realizar la\n",
        "\n",
        "# suma y desplegar la suma de los 2 números"
      ],
      "metadata": {
        "id": "KgzHGM0fsngv"
      }
    },
    {
      "cell_type": "code",
      "source": [
        "print (\"Escriba 2 numeros\")\n",
        "num1 = int(input(\"Primero:\"))\n",
        "num2 = int(input(\"Segundo:\"))\n",
        "suma = num1 + num2\n",
        "print (f\"La suma de {num1} + {num2} = {suma}\")"
      ],
      "metadata": {
        "colab": {
          "base_uri": "https://localhost:8080/"
        },
        "id": "yi2gYH3CtaD4",
        "outputId": "8833eb6f-9c2e-4b53-cfe9-34601ba66f7a"
      },
      "execution_count": 27,
      "outputs": [
        {
          "output_type": "stream",
          "name": "stdout",
          "text": [
            "Escriba 2 numeros\n",
            "Primero:1\n",
            "Segundo:2\n",
            "La suma de 1 + 2 = 3\n"
          ]
        }
      ]
    },
    {
      "cell_type": "markdown",
      "source": [
        "# 3.- Programa en Python que lea 2 números y realice las 4\n",
        "# operaciones básicas"
      ],
      "metadata": {
        "id": "lIXjFzQpsykP"
      }
    },
    {
      "cell_type": "code",
      "source": [
        "print (\"Escriba 2 numeros\")\n",
        "num1 = int(input(\"Primero:\"))\n",
        "num2 = int(input(\"Segundo:\"))\n",
        "suma = num1 + num2\n",
        "resta = num1 - num2\n",
        "mult = num1 * num2\n",
        "div = num1 / num2\n",
        "print (f\"La suma de {num1} + {num2} = {suma}\")\n",
        "print (f\"La resta de {num1} - {num2} = {resta}\")\n",
        "print (f\"La multiplicación de {num1} x {num2} = {mult}\")\n",
        "print (f\"La división {num1} / {num2} = {div}\")"
      ],
      "metadata": {
        "colab": {
          "base_uri": "https://localhost:8080/"
        },
        "id": "9SxxoOyGtabS",
        "outputId": "dd29e5e8-d144-4f5f-c077-439c5f67e18d"
      },
      "execution_count": 28,
      "outputs": [
        {
          "output_type": "stream",
          "name": "stdout",
          "text": [
            "Escriba 2 numeros\n",
            "Primero:2\n",
            "Segundo:2\n",
            "La suma de 2 + 2 = 4\n",
            "La resta de 2 - 2 = 0\n",
            "La multiplicación de 2 x 2 = 4\n",
            "La división 2 / 2 = 1.0\n"
          ]
        }
      ]
    },
    {
      "cell_type": "markdown",
      "source": [
        "# 4.- Programa en Python Que sirva para calcular el área de\n",
        "\n",
        "# un triángulo"
      ],
      "metadata": {
        "id": "7cWhgtgGs8eM"
      }
    },
    {
      "cell_type": "code",
      "source": [
        "print (\"Calcular el area de un triangulo\")\n",
        "base = int(input(\"Digame la medida de la base:\"))\n",
        "altura = int(input(\"Escriba la altura del triagulo:\"))\n",
        "area = base*altura/2\n",
        "print (f\"El area del triangulo es: {area}\")"
      ],
      "metadata": {
        "colab": {
          "base_uri": "https://localhost:8080/"
        },
        "id": "yTcOysoDta61",
        "outputId": "383fb3e7-238d-4b9f-e119-c69444f8af33"
      },
      "execution_count": 31,
      "outputs": [
        {
          "output_type": "stream",
          "name": "stdout",
          "text": [
            "Calcular el area de un triangulo\n",
            "Digame la medida de la base:5\n",
            "Escriba la altura del triagulo:3\n",
            "El area del triangulo es : 7.5\n"
          ]
        }
      ]
    },
    {
      "cell_type": "markdown",
      "source": [
        "# 5.- Programa en Python que lea una medida en centímetros y\n",
        "\n",
        "# desplegar la misma medida pero convertida en pies y pulgadas"
      ],
      "metadata": {
        "id": "yk-VFhzis8vo"
      }
    },
    {
      "cell_type": "code",
      "source": [
        "cm = float(input(\"Digame una medida en centimetros: \"))\n",
        "inch = cm / 2.54\n",
        "feet = cm / 30.48\n",
        "print (f\"Su medida en pulgadas es: {inch}´´ y en pies es: {feet}'\")"
      ],
      "metadata": {
        "colab": {
          "base_uri": "https://localhost:8080/"
        },
        "id": "E7Prst0ttdpd",
        "outputId": "db8c431d-f7a2-47a4-b574-d0f53cecc411"
      },
      "execution_count": 43,
      "outputs": [
        {
          "output_type": "stream",
          "name": "stdout",
          "text": [
            "Digame una medida en centimetros: 10\n",
            "Su medida en pulgadas es: 3.937007874015748´´ y en pies es: 0.32808398950131235'\n"
          ]
        }
      ]
    },
    {
      "cell_type": "markdown",
      "source": [
        "# 6.- Programa en Python que lea una temperatura en\n",
        "\n",
        "# grados centígrados y desplegarla en Grados Fahrenheit y grados\n",
        "\n",
        "# kelvin"
      ],
      "metadata": {
        "id": "hERGdDtrs9n_"
      }
    },
    {
      "cell_type": "code",
      "source": [
        "centi = float(input(\"Digame una temperatura en °C:\"))\n",
        "kelv = centi + 273.15\n",
        "farht = (centi * 9/5) + 32 \n",
        "print (f\"La temperatura es {farht}°F o {kelv}°K\")"
      ],
      "metadata": {
        "colab": {
          "base_uri": "https://localhost:8080/"
        },
        "id": "oR9xF90lteC0",
        "outputId": "59f3a47b-55ec-43c7-819d-ba25d6b1b20e"
      },
      "execution_count": 48,
      "outputs": [
        {
          "output_type": "stream",
          "name": "stdout",
          "text": [
            "Digame una temperatura en °C:32\n",
            "La temperatura es 89.6°F o 305.15°K\n"
          ]
        }
      ]
    },
    {
      "cell_type": "markdown",
      "source": [
        "# 7.- Programa en Python que lea 4 calificaciones de un alumno,\n",
        "\n",
        "# desplegar el promedio del alumno"
      ],
      "metadata": {
        "id": "UZ5Ljpbfs9vD"
      }
    },
    {
      "cell_type": "code",
      "source": [
        "calif1 = int(input(\"Ingrese sus 4 calificaciones\\nPrimera:\"))\n",
        "calif2 = int(input(\"Segunda:\"))\n",
        "calif3 = int(input(\"Tercera:\"))\n",
        "calif4 = int(input(\"Cuarta:\"))\n",
        "prom = (calif1 + calif2 + calif3 + calif4)/4\n",
        "print (f\"Su promedio es {prom}\")"
      ],
      "metadata": {
        "colab": {
          "base_uri": "https://localhost:8080/"
        },
        "id": "mFmlFOEVtewo",
        "outputId": "e0287133-b330-4deb-f43a-79d7e26ca3c0"
      },
      "execution_count": 51,
      "outputs": [
        {
          "output_type": "stream",
          "name": "stdout",
          "text": [
            "Ingrese sus 4 calificaciones\n",
            "Primera:67\n",
            "Segunda:87\n",
            "Tercera:72\n",
            "Cuarta:100\n",
            "Su promedio es 81.5\n"
          ]
        }
      ]
    }
  ]
}