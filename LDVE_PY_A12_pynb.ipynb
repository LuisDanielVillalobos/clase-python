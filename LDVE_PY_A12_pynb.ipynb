{
  "nbformat": 4,
  "nbformat_minor": 0,
  "metadata": {
    "colab": {
      "provenance": [],
      "include_colab_link": true
    },
    "kernelspec": {
      "name": "python3",
      "display_name": "Python 3"
    },
    "language_info": {
      "name": "python"
    }
  },
  "cells": [
    {
      "cell_type": "markdown",
      "metadata": {
        "id": "view-in-github",
        "colab_type": "text"
      },
      "source": [
        "<a href=\"https://colab.research.google.com/github/LuisDanielVillalobos/clase-python/blob/main/LDVE_PY_A12_pynb.ipynb\" target=\"_parent\"><img src=\"https://colab.research.google.com/assets/colab-badge.svg\" alt=\"Open In Colab\"/></a>"
      ]
    },
    {
      "cell_type": "markdown",
      "source": [
        "#PRE"
      ],
      "metadata": {
        "id": "M5rV8je5ReXy"
      }
    },
    {
      "cell_type": "code",
      "source": [
        "!pip install pyyaml"
      ],
      "metadata": {
        "colab": {
          "base_uri": "https://localhost:8080/"
        },
        "id": "SZUv61CTboi4",
        "outputId": "1cc50991-0e48-498c-d3db-2f43b031b460"
      },
      "execution_count": 1,
      "outputs": [
        {
          "output_type": "stream",
          "name": "stdout",
          "text": [
            "Looking in indexes: https://pypi.org/simple, https://us-python.pkg.dev/colab-wheels/public/simple/\n",
            "Requirement already satisfied: pyyaml in /usr/local/lib/python3.10/dist-packages (6.0)\n"
          ]
        }
      ]
    },
    {
      "cell_type": "code",
      "source": [
        "import sys\n",
        "import os\n",
        "from IPython.display import clear_output\n",
        "import random\n",
        "import json\n",
        "import yaml\n",
        "import pandas as pd"
      ],
      "metadata": {
        "id": "I6_8ExI7byZp"
      },
      "execution_count": 2,
      "outputs": []
    },
    {
      "cell_type": "code",
      "execution_count": 3,
      "metadata": {
        "colab": {
          "base_uri": "https://localhost:8080/"
        },
        "id": "aGiIdAI1bAS5",
        "outputId": "536d7cef-db40-45c4-cbba-91223bb70f58"
      },
      "outputs": [
        {
          "output_type": "stream",
          "name": "stdout",
          "text": [
            "Mounted at /content/drive\n"
          ]
        }
      ],
      "source": [
        "from google.colab import drive\n",
        "drive.mount('/content/drive')"
      ]
    },
    {
      "cell_type": "code",
      "source": [
        "ruta='/content/drive/MyDrive/colab'"
      ],
      "metadata": {
        "id": "WoWi3ZIDbGmy"
      },
      "execution_count": 4,
      "outputs": []
    },
    {
      "cell_type": "code",
      "source": [
        "import sys\n",
        "sys.path.append(ruta)"
      ],
      "metadata": {
        "id": "GNUMf2w0bIhv"
      },
      "execution_count": 5,
      "outputs": []
    },
    {
      "cell_type": "code",
      "source": [
        "def valinum_int(msge,ri=0,rf=9999999,msgError1=\"El numero esta fuera de rango\",msgError2=\"Solo valores numericos\"):\n",
        "    while True:\n",
        "        try:\n",
        "            num = int(input(f\"{msge}: \"))\n",
        "        except:\n",
        "            print (msgError2)\n",
        "            continue\n",
        "        if num < ri or num > rf:\n",
        "            print(f\"{msgError1} ({ri} a {rf})\")\n",
        "            continue\n",
        "        else:\n",
        "            break\n",
        "    return num"
      ],
      "metadata": {
        "id": "HQ161whabJov"
      },
      "execution_count": 6,
      "outputs": []
    },
    {
      "cell_type": "code",
      "source": [
        "def agregar_aut(lista_dic):\n",
        "    clear_output()\n",
        "    registro = [\"ID\",\"Nombre\",\"Ap.Paterno\",\"Ap.Materno\",\"Cargo\",\"Sexo\"]\n",
        "    nombres_m=[\"Juan\",\"Luis\", \"Carlos\",\"Roberto\",\"Pedro\",\"Abraham\",\"Tulio\",\"Jesus\"]\n",
        "    nombres_f=[\"Sandra\",\"Lupita\",\"Maria\",\"Sonia\",\"Ana\",\"Vanessa\",\"Cristina\",\"fernanda\"]\n",
        "    apellidos=[\"Villalobos\",\"Sanchez\",\"Perez\",\"Casas\",\"Paredes\",\"Canales\",\"Urbalejo\",\"Quintero\",\"Chavez\",\"Marron\"]\n",
        "    puesto=[\"Supervisor\",\"Encargad@\",\"Conserje\",\"Gerente\",\"Guardia\",\"Empleado Gral\",\"Jefe\"]\n",
        "    sexo=[\"H\",\"M\"]\n",
        "    for i in range(10):\n",
        "        list_datos=[]\n",
        "        repetido = False\n",
        "        while repetido == False:\n",
        "            clear_output()\n",
        "            id = random.randint(300000,400000)\n",
        "            repetido = verificar_id(lista_dic,id)\n",
        "        list_datos.append(id)\n",
        "        h_o_m =random.randint(1,2)\n",
        "        cant_nom = random.randint(1,2)\n",
        "        if h_o_m == 1:\n",
        "            if cant_nom == 1:\n",
        "                list_datos.append(random.choice(nombres_m))\n",
        "            else:\n",
        "                nombre = f\"{random.choice(nombres_m)} {random.choice(nombres_m)}\"\n",
        "                list_datos.append(nombre)\n",
        "        else:\n",
        "            if cant_nom == 1:\n",
        "                list_datos.append(random.choice(nombres_f))\n",
        "            else:\n",
        "                nombre = f\"{random.choice(nombres_m)} {random.choice(nombres_m)}\"\n",
        "                list_datos.append(nombre)\n",
        "        list_datos.append(random.choice(apellidos))\n",
        "        list_datos.append(random.choice(apellidos))\n",
        "        list_datos.append(random.choice(puesto))\n",
        "        if h_o_m == 1:\n",
        "            list_datos.append(sexo[0])\n",
        "        else:\n",
        "            list_datos.append(sexo[1])\n",
        "        lista_dic.append(dict(zip(registro,list_datos)))"
      ],
      "metadata": {
        "id": "Ym3o5iGbbLTg"
      },
      "execution_count": 7,
      "outputs": []
    },
    {
      "cell_type": "code",
      "source": [
        "def eliminar(lista_dic):\n",
        "    clear_output()\n",
        "    encontrado = False\n",
        "    id_eliminar = valinum_int(\"Introduce el ID a eliminar: \")\n",
        "    for i, diccionario in enumerate(lista_dic):\n",
        "        if diccionario.get(\"ID\") == id_eliminar:\n",
        "            print(f\"El ID ha sido eliminado: {id_eliminar}\")\n",
        "            del lista_dic[i]\n",
        "            encontrado = True\n",
        "    if not encontrado:\n",
        "        print(f\"ID no encontrado {id_eliminar}\")"
      ],
      "metadata": {
        "id": "9alyNVrtbNhH"
      },
      "execution_count": 8,
      "outputs": []
    },
    {
      "cell_type": "code",
      "source": [
        "def verificar_id(lista_dic,id):\n",
        "    for diccionario in lista_dic:\n",
        "        if diccionario.get(\"ID\") == id:\n",
        "            print(\"ID ya existente\")\n",
        "            return False\n",
        "    return True"
      ],
      "metadata": {
        "id": "9rD57N6lbO-B"
      },
      "execution_count": 9,
      "outputs": []
    },
    {
      "cell_type": "code",
      "source": [
        "\n",
        "def imprimir(lista_dic,check_ord):\n",
        "    clear_output()\n",
        "    op = random.randint(1,3)\n",
        "    lista_ord = sorted(lista_dic, key=lambda x: x[\"ID\"])\n",
        "    if check_ord == 1:\n",
        "        salida=pd.DataFrame(lista_ord)\n",
        "        print(salida)\n",
        "    else:\n",
        "        salida=pd.DataFrame(lista_dic)\n",
        "        print(salida)\n",
        "     "
      ],
      "metadata": {
        "id": "DHiNE7IabQe1"
      },
      "execution_count": 10,
      "outputs": []
    },
    {
      "cell_type": "code",
      "source": [
        "def ordenar_dic(lista_dic,check_ord):\n",
        "    clear_output()\n",
        "    if check_ord == 1:\n",
        "        print(\"La lista ya se encuentra ordenada\")\n",
        "    else:\n",
        "        print(\"Se ordeno la lista\")\n",
        "        return 1"
      ],
      "metadata": {
        "id": "gCxwcymEbSPd"
      },
      "execution_count": 11,
      "outputs": []
    },
    {
      "cell_type": "code",
      "source": [
        "\n",
        "def buscar(lista_dic):\n",
        "    clear_output()\n",
        "    dic_encontrado = []\n",
        "    encontrado = False\n",
        "    id_busq = valinum_int(\"Ingresa el ID a buscar: \",300000,400000)\n",
        "    for diccionario in lista_dic:\n",
        "        if diccionario.get(\"ID\") == id_busq:\n",
        "            print(f\"ID encontrado: {id_busq}\")\n",
        "            dic_encontrado.append(diccionario)\n",
        "            salida=pd.DataFrame(dic_encontrado)\n",
        "            print(salida)\n",
        "            encontrado = True\n",
        "    if not encontrado:\n",
        "        print(f\"No se encontro el ID {id_busq}\")"
      ],
      "metadata": {
        "id": "5EiwTuqjbS-R"
      },
      "execution_count": 12,
      "outputs": []
    },
    {
      "cell_type": "code",
      "source": [
        "\n",
        "def buscar_appat(lista_dic):\n",
        "    clear_output()\n",
        "    dic_encontrado = []\n",
        "    encontrado = False\n",
        "    appat_busq = input(\"Ingresa el apellido a buscar \")\n",
        "    for diccionario in lista_dic:\n",
        "        if diccionario.get(\"Ap.Paterno\") == appat_busq:\n",
        "            dic_encontrado.append(diccionario)\n",
        "            encontrado = True\n",
        "    if encontrado == True:\n",
        "        print(f\"Se encontro registros con el apellido: {appat_busq}\")\n",
        "        salida=pd.DataFrame(dic_encontrado)\n",
        "        print(salida)\n",
        "    if not encontrado:\n",
        "        print(f\"No se encontro ningun registro con el apellido {appat_busq}\")"
      ],
      "metadata": {
        "id": "OerXTZGCbUx2"
      },
      "execution_count": 13,
      "outputs": []
    },
    {
      "cell_type": "code",
      "source": [
        "def generar_archivo(lista_dic):\n",
        "    clear_output()\n",
        "    nombre_archivo = input(\"Ingresa el nombre con el que deseas guardar el archivo: \")\n",
        "    data = pd.DataFrame(lista_dic)\n",
        "    data.to_excel(f'/content/drive/MyDrive/colab/ACTIVIDAD_12/{nombre_archivo}.xlsx', index=False)\n",
        "    data.to_csv(f'/content/drive/MyDrive/colab/ACTIVIDAD_12/{nombre_archivo}.csv', index=False)\n",
        "    data.to_markdown(f'/content/drive/MyDrive/colab/ACTIVIDAD_12/{nombre_archivo}.md', index=False)\n",
        "     \n"
      ],
      "metadata": {
        "id": "UIEdxOtYbWGE"
      },
      "execution_count": 14,
      "outputs": []
    },
    {
      "cell_type": "code",
      "source": [
        "\n",
        "def cargar_archivo():\n",
        "    clear_output()\n",
        "    path = \"/content/drive/MyDrive/proyecto/holamundo.txt\"\n",
        "    with open(path, \"r\") as f:\n",
        "        contenido = f.read()\n",
        "    print(\"SE CARGO EL ARCHIVO\")\n",
        "    return contenido"
      ],
      "metadata": {
        "id": "dUSpWB3zbXzL"
      },
      "execution_count": 15,
      "outputs": []
    },
    {
      "cell_type": "code",
      "source": [
        "def imprimir_archivo(contenido):\n",
        "    clear_output()\n",
        "    print(\"CONTENIDO DEL ARCHIVO: \")\n",
        "    print(contenido)\n",
        "     "
      ],
      "metadata": {
        "id": "0Pxz3HYRbZhp"
      },
      "execution_count": 16,
      "outputs": []
    },
    {
      "cell_type": "code",
      "source": [
        "def menu():\n",
        "    print(\"MENU:\")\n",
        "    print(\"1.-AGREGAR (AUTOMATICO 10)\")\n",
        "    print(\"2.-ELIMINAR{ID}\")\n",
        "    print(\"3.-IMPRIMIR LISTA(tabla)\")\n",
        "    print(\"4.-BUSCAR{ID}\")\n",
        "    print(\"5.-BUSCAR{appat} todas las coincidencias\")\n",
        "    print(\"6.-ORDENAR{ID}\")\n",
        "    print(\"7.-GENERAR ARCHIVO{ID}\")\n",
        "    print(\"8.-CARGAR ARCHIVO{ID}\")\n",
        "    print(\"9.-IMPRIMIR ARCHIVO{ID}\")\n",
        "    print(\"10.-BORRAR TODA LA LISTA{ID}\")\n",
        "    print(\"0.-SALIR\")"
      ],
      "metadata": {
        "id": "cifpehE7bbkl"
      },
      "execution_count": 17,
      "outputs": []
    },
    {
      "cell_type": "code",
      "source": [
        "lista_dic =[]\n",
        "check_ord = 0\n",
        "while True:\n",
        "    menu()\n",
        "    op = valinum_int(\"Ingresa la funcion que deseas utilizar: \")\n",
        "    if op == 1:\n",
        "        agregar_aut(lista_dic)\n",
        "        check_ord = 0\n",
        "        print(\"SE AGREGARON LOS REGISTROS\")\n",
        "        input(\"Presiona ENTER para borrar la pantalla\")\n",
        "        clear_output()\n",
        "        continue\n",
        "    elif op == 2:\n",
        "        eliminar(lista_dic)\n",
        "        input(\"Presiona ENTER para borrar la pantalla\")\n",
        "        clear_output()\n",
        "        continue\n",
        "    elif op == 3:\n",
        "        imprimir(lista_dic,check_ord)\n",
        "        input(\"Presiona ENTER para borrar la pantalla\")\n",
        "        clear_output()\n",
        "        continue\n",
        "    elif op == 4:\n",
        "        buscar(lista_dic)\n",
        "        input(\"Presiona ENTER para borrar la pantalla\")\n",
        "        clear_output()\n",
        "        continue\n",
        "    elif op == 5:\n",
        "        buscar_appat(lista_dic)\n",
        "        input(\"Presiona ENTER para borrar la pantalla\")\n",
        "        clear_output()\n",
        "        continue\n",
        "    elif op == 6:\n",
        "        check_ord = ordenar_dic(lista_dic,check_ord)\n",
        "        input(\"Presiona ENTER para borrar la pantalla\")\n",
        "        clear_output()\n",
        "        continue\n",
        "    elif op == 7:\n",
        "        generar_archivo(lista_dic)\n",
        "        input(\"Presiona ENTER para borrar la pantalla\")\n",
        "        clear_output()\n",
        "        continue\n",
        "    elif op == 8:\n",
        "        contenido_arch = cargar_archivo()\n",
        "        input(\"Presiona ENTER para borrar la pantalla\")\n",
        "        clear_output()\n",
        "        continue\n",
        "    elif op == 9:\n",
        "        imprimir_archivo(contenido_arch)\n",
        "        input(\"Presiona ENTER para borrar la pantalla\")\n",
        "        clear_output()\n",
        "        continue\n",
        "    elif op == 10:\n",
        "        lista_dic = []\n",
        "    elif op == 0:\n",
        "        break"
      ],
      "metadata": {
        "colab": {
          "base_uri": "https://localhost:8080/"
        },
        "id": "RwTwcHhkbc9B",
        "outputId": "b852e258-dc72-4fa4-e7aa-be2f3feaac30"
      },
      "execution_count": null,
      "outputs": [
        {
          "output_type": "stream",
          "name": "stdout",
          "text": [
            "       ID         Nombre  Ap.Paterno  Ap.Materno          Cargo Sexo\n",
            "0  354027   Roberto Juan    Quintero    Urbalejo      Encargad@    M\n",
            "1  351541    Carlos Juan  Villalobos     Paredes     Supervisor    M\n",
            "2  318651  Roberto Pedro  Villalobos      Marron  Empleado Gral    H\n",
            "3  389497      Luis Luis       Casas     Canales           Jefe    H\n",
            "4  346185          Sonia     Canales     Sanchez  Empleado Gral    M\n",
            "5  355711   Roberto Luis       Perez     Sanchez      Encargad@    M\n",
            "6  357292    Pedro Jesus      Chavez       Casas           Jefe    M\n",
            "7  354610      Luis Juan     Sanchez  Villalobos        Guardia    M\n",
            "8  352414          Sonia      Chavez      Chavez     Supervisor    M\n",
            "9  361117  Tulio Abraham      Marron     Paredes  Empleado Gral    M\n"
          ]
        }
      ]
    }
  ]
}