{
  "nbformat": 4,
  "nbformat_minor": 0,
  "metadata": {
    "colab": {
      "provenance": [],
      "toc_visible": true,
      "authorship_tag": "ABX9TyN8tqweWw0a+H2F2aBeQAAO",
      "include_colab_link": true
    },
    "kernelspec": {
      "name": "python3",
      "display_name": "Python 3"
    },
    "language_info": {
      "name": "python"
    }
  },
  "cells": [
    {
      "cell_type": "markdown",
      "metadata": {
        "id": "view-in-github",
        "colab_type": "text"
      },
      "source": [
        "<a href=\"https://colab.research.google.com/github/LuisDanielVillalobos/clase-python/blob/main/LDVE_PY_A05.ipynb\" target=\"_parent\"><img src=\"https://colab.research.google.com/assets/colab-badge.svg\" alt=\"Open In Colab\"/></a>"
      ]
    },
    {
      "cell_type": "markdown",
      "source": [
        "# Parte 1"
      ],
      "metadata": {
        "id": "WTU3nAtgjyPH"
      }
    },
    {
      "cell_type": "markdown",
      "source": [
        "## 1.- Programa en Python que genere 40 números aleatorios entre el 0 y 200: \n"
      ],
      "metadata": {
        "id": "XCxxYsiO8IBh"
      }
    },
    {
      "cell_type": "markdown",
      "source": [
        "desplegar los números y la leyenda de cada número si es par o impar , la cantidad de los números pares e impares así como la suma de los números pares o impares."
      ],
      "metadata": {
        "id": "26sKR1Kq7_iT"
      }
    },
    {
      "cell_type": "code",
      "source": [
        "import random\n",
        "sumapar = 0\n",
        "sumaimpar = 0\n",
        "cantidadpar = 0\n",
        "for i in range(0,40):\n",
        "    num = random.randint(0,200)\n",
        "    print (f\"Valor {i+1}=>\", num, end=\" \")\n",
        "    if num % 2 == 0:\n",
        "        cantidadpar = 1 + cantidadpar\n",
        "        sumapar = num + sumapar\n",
        "        print (\"Par\")\n",
        "    else:\n",
        "        sumaimpar = num + sumaimpar\n",
        "        print (\"Impar\")\n",
        "print (\"Cantidad de numeros pares\", cantidadpar)\n",
        "print (\"Cantidad de numeros pares\", 40-cantidadpar)\n",
        "print (\"Suma de numeros pares: \", sumapar)\n",
        "print (\"Suma de numeros impares: \", sumaimpar)"
      ],
      "metadata": {
        "colab": {
          "base_uri": "https://localhost:8080/"
        },
        "id": "SGlZbZAK8KKZ",
        "outputId": "ae803f0c-be83-4a4d-ea15-c47b59b6bd84"
      },
      "execution_count": 58,
      "outputs": [
        {
          "output_type": "stream",
          "name": "stdout",
          "text": [
            "Valor 1=> 102 Par\n",
            "Valor 2=> 126 Par\n",
            "Valor 3=> 199 Impar\n",
            "Valor 4=> 37 Impar\n",
            "Valor 5=> 22 Par\n",
            "Valor 6=> 154 Par\n",
            "Valor 7=> 59 Impar\n",
            "Valor 8=> 60 Par\n",
            "Valor 9=> 75 Impar\n",
            "Valor 10=> 145 Impar\n",
            "Valor 11=> 31 Impar\n",
            "Valor 12=> 195 Impar\n",
            "Valor 13=> 31 Impar\n",
            "Valor 14=> 119 Impar\n",
            "Valor 15=> 167 Impar\n",
            "Valor 16=> 30 Par\n",
            "Valor 17=> 163 Impar\n",
            "Valor 18=> 160 Par\n",
            "Valor 19=> 6 Par\n",
            "Valor 20=> 200 Par\n",
            "Valor 21=> 150 Par\n",
            "Valor 22=> 198 Par\n",
            "Valor 23=> 135 Impar\n",
            "Valor 24=> 153 Impar\n",
            "Valor 25=> 193 Impar\n",
            "Valor 26=> 59 Impar\n",
            "Valor 27=> 10 Par\n",
            "Valor 28=> 159 Impar\n",
            "Valor 29=> 28 Par\n",
            "Valor 30=> 120 Par\n",
            "Valor 31=> 187 Impar\n",
            "Valor 32=> 61 Impar\n",
            "Valor 33=> 182 Par\n",
            "Valor 34=> 79 Impar\n",
            "Valor 35=> 113 Impar\n",
            "Valor 36=> 176 Par\n",
            "Valor 37=> 163 Impar\n",
            "Valor 38=> 8 Par\n",
            "Valor 39=> 129 Impar\n",
            "Valor 40=> 144 Par\n",
            "Cantidad de numeros pares 18\n",
            "Cantidad de numeros pares 22\n",
            "Suma de numeros pares:  1876\n",
            "Suma de numeros impares:  2652\n"
          ]
        }
      ]
    },
    {
      "cell_type": "markdown",
      "source": [
        "## 2.- Programa en Python que despliegue la tabla de multiplicar de un número dado (número entre el 1 y 20).\n",
        "\n"
      ],
      "metadata": {
        "id": "GC3DRHd68WhK"
      }
    },
    {
      "cell_type": "markdown",
      "source": [
        "Tabla del 5\n",
        "\n",
        "5 * 1 = 5\n",
        "\n",
        "5* 2 = 10\n",
        "\n",
        ".\n",
        "\n",
        ".\n",
        "\n",
        ".\n",
        "\n",
        "5*10=50"
      ],
      "metadata": {
        "id": "FqwBSGRP8W1R"
      }
    },
    {
      "cell_type": "code",
      "source": [
        "num = random.randint(1,20)\n",
        "print (\"Tabla del\", num)\n",
        "for i in range(10):\n",
        "    resultado = num * (i+1)\n",
        "    print (f\"{num} x {i+1} = {resultado}\")\n"
      ],
      "metadata": {
        "colab": {
          "base_uri": "https://localhost:8080/"
        },
        "id": "iOcKRzO18W_K",
        "outputId": "d7fdc33b-c0fb-411a-f3c9-4515cdf80a30"
      },
      "execution_count": 59,
      "outputs": [
        {
          "output_type": "stream",
          "name": "stdout",
          "text": [
            "Tabla del 14\n",
            "14 x 1 = 14\n",
            "14 x 2 = 28\n",
            "14 x 3 = 42\n",
            "14 x 4 = 56\n",
            "14 x 5 = 70\n",
            "14 x 6 = 84\n",
            "14 x 7 = 98\n",
            "14 x 8 = 112\n",
            "14 x 9 = 126\n",
            "14 x 10 = 140\n"
          ]
        }
      ]
    },
    {
      "cell_type": "markdown",
      "source": [
        "## 3.- Programa en Python que lea una calificación"
      ],
      "metadata": {
        "id": "Fn2PXQZ78sSq"
      }
    },
    {
      "cell_type": "markdown",
      "source": [
        "las calificación deberá estar en el rango de 0 a 100, si hay un error de captura, mostrar mensaje de error. con la calificación correcta mostrar msg de aprobado reprobado. "
      ],
      "metadata": {
        "id": "zEbw2-sh8sUy"
      }
    },
    {
      "cell_type": "code",
      "source": [
        "try:\n",
        "    calif = int(input(\"Ingrese su calificacion: \"))\n",
        "    if calif < 0 or calif > 100:\n",
        "        raise TypeError(\"El número debe estar entre 0 y 100.\")\n",
        "except TypeError as e:\n",
        "    print(\"Error:\", e)\n",
        "except ValueError:\n",
        "    print(\"Error: El número debe ser entero\")\n",
        "except:\n",
        "    print (\"Error\")\n",
        "else:\n",
        "    if calif < 60:\n",
        "        print (\"Reprobado\")\n",
        "    else:\n",
        "        print (\"Aprovado\")"
      ],
      "metadata": {
        "colab": {
          "base_uri": "https://localhost:8080/"
        },
        "id": "TrWHRCNW8scS",
        "outputId": "d367f762-810e-48df-b00c-a1d6be628d98"
      },
      "execution_count": 60,
      "outputs": [
        {
          "output_type": "stream",
          "name": "stdout",
          "text": [
            "Ingrese su calificacion: 13\n",
            "Reprobado\n"
          ]
        }
      ]
    },
    {
      "cell_type": "markdown",
      "source": [
        "## 4.- Programa en Python que lea n cantidad de números enteros dentro de un rango dado (> 0 ) , el programa deberá terminar cuando el usuario introduzca el número cero."
      ],
      "metadata": {
        "id": "29u4y2xP9fId"
      }
    },
    {
      "cell_type": "code",
      "source": [
        "#desplegar la suma de números y la media.\n",
        "try:\n",
        "    print ('Para salir ingrese \"0\"')\n",
        "    num = 1\n",
        "    suma = 0\n",
        "    i = -1\n",
        "    while num != 0:\n",
        "        num = int(input(\"ingrese numeros enteros: \"))\n",
        "        if num < 0:\n",
        "            print (\"Numeros mayores que 0\")\n",
        "            continue\n",
        "        i += 1\n",
        "        suma += num\n",
        "except ValueError:\n",
        "    print (\"Error: Los valores ingresados deben ser números enteros.\")\n",
        "else:\n",
        "    print (f\"La suma de los numeros es {suma}\")\n",
        "    print (f\"La media de los numeros es {suma / i}\")"
      ],
      "metadata": {
        "id": "7We-SnhE9fTi",
        "colab": {
          "base_uri": "https://localhost:8080/"
        },
        "outputId": "fd2c83df-4024-434c-b7b8-5e74c735ad26"
      },
      "execution_count": 61,
      "outputs": [
        {
          "output_type": "stream",
          "name": "stdout",
          "text": [
            "Para salir ingrese \"0\"\n",
            "ingrese numeros enteros: 31\n",
            "ingrese numeros enteros: 31\n",
            "ingrese numeros enteros: 41\n",
            "ingrese numeros enteros: 31\n",
            "ingrese numeros enteros: 31\n",
            "ingrese numeros enteros: 0\n",
            "La suma de los numeros es 165\n",
            "La media de los numeros es 33.0\n"
          ]
        }
      ]
    },
    {
      "cell_type": "markdown",
      "source": [
        "## 5.- Programa en Python que sirva para leer el promedio de una materia. "
      ],
      "metadata": {
        "id": "J7knDASX9pFq"
      }
    },
    {
      "cell_type": "markdown",
      "source": [
        "donde el usuario tendrá un máximo de 3 oportunidades de cursar la materia, si el promedio es aprobado, felicitarlo y continuar el siguiente semestre, si promedio es reprobado deberá salir mensaje de repetir materia o es baja académica si ha reprobado 3 veces"
      ],
      "metadata": {
        "id": "jlgwNqHiCsYi"
      }
    },
    {
      "cell_type": "code",
      "source": [
        "try:\n",
        "    for i in range(1,4):\n",
        "        calif = int(input(\"Digame su calificacion: \"))\n",
        "        if calif < 0 or calif > 100:\n",
        "            raise TypeError(\"Calificacion debe estar entre 0 y 100.\")\n",
        "        elif calif < 60:\n",
        "            print (\"Reprobado\")\n",
        "        else:\n",
        "            break\n",
        "except TypeError as e:\n",
        "    print(\"Error:\", e)\n",
        "except ValueError:\n",
        "    print(\"Error: El número debe ser entero\")\n",
        "except:\n",
        "    print (\"Error\")\n",
        "else:\n",
        "    if i == 3:\n",
        "        print (\"Baja academica\")\n",
        "    else:\n",
        "        print (\"APROVADO!\")"
      ],
      "metadata": {
        "id": "kzf2_DoU9pLi",
        "colab": {
          "base_uri": "https://localhost:8080/"
        },
        "outputId": "30355118-a1f6-4ab5-e904-a051c0b4ee47"
      },
      "execution_count": 62,
      "outputs": [
        {
          "output_type": "stream",
          "name": "stdout",
          "text": [
            "Digame su calificacion: 10\n",
            "Reprobado\n",
            "Digame su calificacion: 31\n",
            "Reprobado\n",
            "Digame su calificacion: 54\n",
            "Reprobado\n",
            "Baja academica\n"
          ]
        }
      ]
    },
    {
      "cell_type": "markdown",
      "source": [
        "# Parte 2"
      ],
      "metadata": {
        "id": "KU1EBqJvkEky"
      }
    },
    {
      "cell_type": "code",
      "source": [
        "import random"
      ],
      "metadata": {
        "id": "1HU0bA6Ho2f9"
      },
      "execution_count": 33,
      "outputs": []
    },
    {
      "cell_type": "markdown",
      "source": [
        "## 1.- función que lea n cantidad de números hasta que el usuario lo desee, desplegar la suma de los números, media y valor de los números mayores y menores.\n",
        "\n"
      ],
      "metadata": {
        "id": "kTka_Ro291Oq"
      }
    },
    {
      "cell_type": "code",
      "source": [
        "def sumaymedia (void):\n",
        "    try:\n",
        "        print ('Para salir ingrese \"0\"')\n",
        "        num = 1\n",
        "        suma = 0\n",
        "        may = -9999999999999\n",
        "        men = 999999999\n",
        "        i = -1\n",
        "        while num != 0:\n",
        "            num = int(input(\"ingrese numeros enteros: \"))\n",
        "            if num > may:\n",
        "                may = num\n",
        "            elif num < men and num!= 0:\n",
        "                men = num\n",
        "            i += 1\n",
        "            suma += num\n",
        "    except ValueError:\n",
        "        print (\"Error: Los valores ingresados deben ser números enteros.\")\n",
        "    else:\n",
        "        print (f\"La suma de los numeros es {suma}\")\n",
        "        print (f\"La media de los numeros es {suma / i}\")\n",
        "        print (f\"El numero mayor: {may} y el numero menor: {men}\")\n",
        "sumaymedia(0)"
      ],
      "metadata": {
        "id": "u2QniHSy98ES",
        "colab": {
          "base_uri": "https://localhost:8080/"
        },
        "outputId": "bb93d9e2-4572-4170-aeca-91902f001d73"
      },
      "execution_count": 45,
      "outputs": [
        {
          "output_type": "stream",
          "name": "stdout",
          "text": [
            "Para salir ingrese \"0\"\n",
            "ingrese numeros enteros: 41\n",
            "ingrese numeros enteros: 1\n",
            "ingrese numeros enteros: 51\n",
            "ingrese numeros enteros: -5\n",
            "ingrese numeros enteros: 21\n",
            "ingrese numeros enteros: 9125\n",
            "ingrese numeros enteros: 0\n",
            "La suma de los numeros es 9234\n",
            "La media de los numeros es 1539.0\n",
            "El numero mayor: 9125 y el numero menor: -5\n"
          ]
        }
      ]
    },
    {
      "cell_type": "markdown",
      "source": [
        "## 2.- función que genere 15 números impares entre 10 y 60 o máximo de 25 números. desplegar la media de los pares y media de impares."
      ],
      "metadata": {
        "id": "4G5WYbkJ98VC"
      }
    },
    {
      "cell_type": "code",
      "source": [
        "def numsrand (void):\n",
        "    sumapar = sumaimpar = i = impar = 0\n",
        "    for i in range(0,25):\n",
        "        num = random.randint(10,60)\n",
        "        print (f\"Valor {i+1}=>\", num, end=\" \")\n",
        "        if num % 2 == 0:\n",
        "            sumapar += num\n",
        "            print (\"Par\")\n",
        "        else:\n",
        "            sumaimpar += num\n",
        "            impar += 1\n",
        "            print (\"Impar\")\n",
        "        if impar == 15:\n",
        "            break\n",
        "    print (\"Media impar: \", (sumapar / (i+1-impar)))\n",
        "    print (\"Media de par: \", (sumaimpar / impar))\n",
        "numsrand(0)"
      ],
      "metadata": {
        "id": "ZxQDsMbO9_LC",
        "colab": {
          "base_uri": "https://localhost:8080/"
        },
        "outputId": "5a68806f-4982-4d99-cb02-b99c9b136ba7"
      },
      "execution_count": 38,
      "outputs": [
        {
          "output_type": "stream",
          "name": "stdout",
          "text": [
            "Valor 1=> 50 Par\n",
            "Valor 2=> 14 Par\n",
            "Valor 3=> 31 Impar\n",
            "Valor 4=> 23 Impar\n",
            "Valor 5=> 47 Impar\n",
            "Valor 6=> 16 Par\n",
            "Valor 7=> 23 Impar\n",
            "Valor 8=> 35 Impar\n",
            "Valor 9=> 51 Impar\n",
            "Valor 10=> 19 Impar\n",
            "Valor 11=> 35 Impar\n",
            "Valor 12=> 11 Impar\n",
            "Valor 13=> 56 Par\n",
            "Valor 14=> 15 Impar\n",
            "Valor 15=> 31 Impar\n",
            "Valor 16=> 21 Impar\n",
            "Valor 17=> 29 Impar\n",
            "Valor 18=> 19 Impar\n",
            "Valor 19=> 58 Par\n",
            "Valor 20=> 18 Par\n",
            "Valor 21=> 60 Par\n",
            "Valor 22=> 20 Par\n",
            "Valor 23=> 35 Impar\n",
            "Media impar:  36.5\n",
            "Media de par:  28.333333333333332\n"
          ]
        }
      ]
    },
    {
      "cell_type": "markdown",
      "source": [
        "## 3.- función que sirva para leer y validar un número dentro de un rango dado por el usuario. repetir esta acción hasta que el usuario lo desee, desplegar cantidad de números y promedio de los números."
      ],
      "metadata": {
        "id": "Zf141SZQ9_PD"
      }
    },
    {
      "cell_type": "code",
      "source": [
        "def valirang (void):\n",
        "    try:\n",
        "        rini = int(input(\"Rango inicial: \"))\n",
        "        rfin = int(input(\"Rango final: \"))\n",
        "        if rini > rfin:\n",
        "            raise TypeError(\"El rango final no puede ser menor que el inicial\")\n",
        "        num = 1\n",
        "        suma = i = 0\n",
        "        print ('Presione \"0\" para salir')\n",
        "        while num != 0:\n",
        "            num = int(input(\"Digame un numero: \"))\n",
        "            if num > rfin or num < rini:\n",
        "                print (f\"El valor debe estar entre: '{rini} y {rfin}'\")\n",
        "                continue\n",
        "            suma += num\n",
        "            i += 1\n",
        "            if num == 0:\n",
        "                i = i - 1\n",
        "        print (f\"El promedio: {suma / i}\")\n",
        "        print (f\"La cantidad de numeros: {i}\")\n",
        "\n",
        "    except TypeError as e:\n",
        "        print (\"Error:\", e)\n",
        "    except ValueError:\n",
        "        print (\"Error: El número debe ser entero\")\n",
        "    except:\n",
        "        print (\"error\")\n",
        "\n",
        "valirang(0)"
      ],
      "metadata": {
        "id": "Ol-osb6p-COK",
        "colab": {
          "base_uri": "https://localhost:8080/"
        },
        "outputId": "5a20f4cf-50a4-4bb0-a13e-90f030ce5523"
      },
      "execution_count": 41,
      "outputs": [
        {
          "output_type": "stream",
          "name": "stdout",
          "text": [
            "Rango inicial: 10\n",
            "Rango final: 13\n",
            "Presione \"0\" para salir\n",
            "Digame un numero: 2\n",
            "El valor debe estar entre: '10 y 13'\n",
            "Digame un numero: 13\n",
            "Digame un numero: 12\n",
            "Digame un numero: 11\n",
            "Digame un numero: 11\n",
            "Digame un numero: 1\n",
            "El valor debe estar entre: '10 y 13'\n",
            "Digame un numero: 12\n",
            "Digame un numero: 13\n",
            "Digame un numero: 0\n",
            "El valor debe estar entre: '10 y 13'\n",
            "El promedio: 12.0\n",
            "La cantidad de numeros: 6\n"
          ]
        }
      ]
    },
    {
      "cell_type": "markdown",
      "source": [
        "## 4.- función que reciba como parámetro los valores para el área de un triángulo y retorne su resultado"
      ],
      "metadata": {
        "id": "yVfWagLyDJSw"
      }
    },
    {
      "cell_type": "code",
      "source": [
        "def areatri (base, altura):\n",
        "    area = (base * altura) / 2\n",
        "    return area\n",
        "try:\n",
        "    base = int(input(\"Digame la base: \"))\n",
        "    altura = int(input(\"Digame la altura: \"))\n",
        "    print (areatri(base,altura))\n",
        "except ValueError:\n",
        "        print (\"Error: El número debe ser entero\")\n",
        "\n"
      ],
      "metadata": {
        "id": "W5FBR2jhDJdw",
        "colab": {
          "base_uri": "https://localhost:8080/"
        },
        "outputId": "c94279c2-b7a6-4e0a-c51e-e03f0a330f38"
      },
      "execution_count": 48,
      "outputs": [
        {
          "output_type": "stream",
          "name": "stdout",
          "text": [
            "Digame la base: 3\n",
            "Digame la altura: 14\n",
            "21.0\n"
          ]
        }
      ]
    },
    {
      "cell_type": "markdown",
      "source": [
        "## 5.- función que sirva para validar un número dentro de un rango dado."
      ],
      "metadata": {
        "id": "tbcUOsBvDQ33"
      }
    },
    {
      "cell_type": "code",
      "source": [
        "def validar (num, rfin, rini):\n",
        "    if num > rfin or num < rini:\n",
        "        print (\"VALOR INVALIDO\")\n",
        "        print (f\"El valor debe estar entre: '{rini} y {rfin}'\")\n",
        "    else:\n",
        "        print (\"VALOR VALIDO\")\n",
        "try:\n",
        "    rini = int(input(\"Rango inicial: \"))\n",
        "    rfin = int(input(\"Rango final: \"))\n",
        "    num = int(input(\"Digame un numero: \"))\n",
        "    if rini > rfin:\n",
        "        raise TypeError(\"El rango final no puede ser menor que el inicial\")\n",
        "    validar(num,rfin,rini)\n",
        "               \n",
        "except TypeError as e:\n",
        "    print (\"Error:\", e)\n",
        "except ValueError:\n",
        "    print (\"Error: El número debe ser entero\")\n",
        "except:\n",
        "    print (\"error\")\n"
      ],
      "metadata": {
        "id": "3qw99rMPDSPH",
        "colab": {
          "base_uri": "https://localhost:8080/"
        },
        "outputId": "602de82f-ff34-4ec3-d053-52a1ef617a30"
      },
      "execution_count": 57,
      "outputs": [
        {
          "output_type": "stream",
          "name": "stdout",
          "text": [
            "Rango inicial: 0\n",
            "Rango final: 10\n",
            "Digame un numero: 2\n",
            "VALOR VALIDO\n"
          ]
        }
      ]
    }
  ]
}