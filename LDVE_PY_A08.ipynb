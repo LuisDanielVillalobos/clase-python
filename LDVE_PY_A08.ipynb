{
  "nbformat": 4,
  "nbformat_minor": 0,
  "metadata": {
    "colab": {
      "provenance": [],
      "authorship_tag": "ABX9TyMZ6SLDS97pqWbOYh+Hajg4",
      "include_colab_link": true
    },
    "kernelspec": {
      "name": "python3",
      "display_name": "Python 3"
    },
    "language_info": {
      "name": "python"
    }
  },
  "cells": [
    {
      "cell_type": "markdown",
      "metadata": {
        "id": "view-in-github",
        "colab_type": "text"
      },
      "source": [
        "<a href=\"https://colab.research.google.com/github/LuisDanielVillalobos/clase-python/blob/main/LDVE_PY_A08.ipynb\" target=\"_parent\"><img src=\"https://colab.research.google.com/assets/colab-badge.svg\" alt=\"Open In Colab\"/></a>"
      ]
    },
    {
      "cell_type": "code",
      "execution_count": 7,
      "metadata": {
        "id": "8cEweEx-QUEF"
      },
      "outputs": [],
      "source": [
        "!pip install kora -q\n",
        "from IPython.display import clear_output\n",
        "from kora import drive\n",
        "drive.link_nbs()\n",
        "\n",
        "import random"
      ]
    },
    {
      "cell_type": "code",
      "source": [
        "def valinum_int(msge,msgError2=\"INGRESA UN VALOR NUMERICO ENTERO\"):\n",
        "    while True:\n",
        "        try:\n",
        "            num = int(input(f\"{msge}\"))\n",
        "        except:\n",
        "            print (msgError2)\n",
        "            continue\n",
        "        else:\n",
        "            break\n",
        "    return num"
      ],
      "metadata": {
        "id": "sr3ybHMUxTmI"
      },
      "execution_count": 6,
      "outputs": []
    },
    {
      "cell_type": "code",
      "source": [
        "def crear_dic():\n",
        "    registro = [\"Matricula\",\"Nombre\",\"Ap.Paterno\",\"Ap.Materno\",\"Edad\",\"Sexo\"]\n",
        "    matricula=[369389,368617,369555,369386,369883,368808]\n",
        "    nombre=[\"Walter Jesus\",\"Luis Daniel\",\"Jacob Eduardo\",\"Juan\",\"Alberto\",\"Saul\"]\n",
        "    appaterno=[\"Marquez\",\"Bonilla\",\"Villalobos\",\"Paredes\",\"De la Huerta\",\"Torres\"]\n",
        "    apmaterno=[\"Cabrera\",\"Ensaldo\",\"Fernandez\",\"Silva\",\"Casas\",\"Perez\"]\n",
        "    edad=[20,19,21,23,18,24]\n",
        "    sexo=[\"H\",\"H\",\"H\",\"H\",\"H\",\"H\"]\n",
        "    nrandom=random.randint(0,5)\n",
        "    dic = dict(zip(registro,[matricula[nrandom],nombre[nrandom],appaterno[nrandom],apmaterno[nrandom],edad[nrandom],sexo[nrandom]]))\n",
        "    print(\"Listo\")\n",
        "    return dic"
      ],
      "metadata": {
        "id": "JsNLIqaiv8bc"
      },
      "execution_count": 13,
      "outputs": []
    },
    {
      "cell_type": "code",
      "source": [
        "def imprimir_dic(dic):\n",
        "    print(\"{:<20}{:<20}{:<20}{:<20}{:<20}{}\".format(\"Matricula\",\"Nombre\",\"Ap.Paterno\",\"Ap.Materno\",\"Edad\",\"Sexo\"))\n",
        "    print(\"{:<20}{:<20}{:<20}{:<20}{:<20}{}\".format(dic['Matricula'],dic['Nombre'],dic['Ap.Paterno'],dic['Ap.Materno'],dic['Edad'],dic['Sexo']))"
      ],
      "metadata": {
        "id": "N92s2Ti4v80q"
      },
      "execution_count": 9,
      "outputs": []
    },
    {
      "cell_type": "code",
      "source": [
        "def menu():\n",
        "    print(\"MENU:\")\n",
        "    print(\"1.-CREAR DICCIONARIO\")\n",
        "    print(\"2.-IMPRIMIR DICCIONARIO\")\n",
        "    print(\"0.-SALIR\")"
      ],
      "metadata": {
        "id": "elzpSsyPv8s7"
      },
      "execution_count": 10,
      "outputs": []
    },
    {
      "cell_type": "code",
      "source": [
        "#EJECUCION DE TODAS LAS FUNCIONES(MAIN)\n",
        "while True:\n",
        "    menu()\n",
        "    op = valinum_int(\"Dime la funcion que deseas utilizar: \")\n",
        "    if op == 1:\n",
        "        dic = crear_dic()\n",
        "        input(\"Da click ENTER para borrar la pantalla\")\n",
        "        clear_output()\n",
        "        continue\n",
        "    elif op == 2:\n",
        "        imprimir_dic(dic)\n",
        "        input(\"Da click ENTER para borrar la pantalla\")\n",
        "        clear_output()\n",
        "        continue\n",
        "    elif op == 0:\n",
        "        break"
      ],
      "metadata": {
        "colab": {
          "base_uri": "https://localhost:8080/"
        },
        "id": "WpC1DWDlwDwc",
        "outputId": "4ca9ab0c-bd73-494b-95fc-d73a641efde0"
      },
      "execution_count": 12,
      "outputs": [
        {
          "name": "stdout",
          "output_type": "stream",
          "text": [
            "MENU:\n",
            "1.-CREAR DICCIONARIO\n",
            "2.-IMPRIMIR DICCIONARIO\n",
            "0.-SALIR\n",
            "Dime la funcion que deseas utilizar: 0\n"
          ]
        }
      ]
    }
  ]
}