{
  "nbformat": 4,
  "nbformat_minor": 0,
  "metadata": {
    "colab": {
      "provenance": [],
      "authorship_tag": "ABX9TyNbQPltwRslknT1teiAVJ1g",
      "include_colab_link": true
    },
    "kernelspec": {
      "name": "python3",
      "display_name": "Python 3"
    },
    "language_info": {
      "name": "python"
    }
  },
  "cells": [
    {
      "cell_type": "markdown",
      "metadata": {
        "id": "view-in-github",
        "colab_type": "text"
      },
      "source": [
        "<a href=\"https://colab.research.google.com/github/LuisDanielVillalobos/clase-python/blob/main/LDVE_PY_A08.ipynb\" target=\"_parent\"><img src=\"https://colab.research.google.com/assets/colab-badge.svg\" alt=\"Open In Colab\"/></a>"
      ]
    },
    {
      "cell_type": "markdown",
      "source": [
        "#PRE"
      ],
      "metadata": {
        "id": "D0CWbuHu9K39"
      }
    },
    {
      "cell_type": "code",
      "execution_count": null,
      "metadata": {
        "id": "D-Y1E7tX78iH"
      },
      "outputs": [],
      "source": [
        "import random\n",
        "from IPython.display import clear_output\n",
        "from prompt_toolkit import output"
      ]
    },
    {
      "cell_type": "code",
      "source": [
        "def valinum (msge,rf=64000,ri=-32000):\n",
        "    while True:\n",
        "        try:\n",
        "            num = int(input(f\"{msge}\"))\n",
        "            if ri > rf:\n",
        "                raise TypeError(\"El rango final es menor que el inicial\")            \n",
        "            if num > rf or num < ri:\n",
        "                print (\"VALOR INVALIDO\")\n",
        "                print (f\"El valor debe estar entre: '{ri} y {rf}'\")            \n",
        "            else:\n",
        "                return num\n",
        "                break   \n",
        "        except TypeError as e:\n",
        "            print (\"Error:\", e)\n",
        "        except ValueError:\n",
        "            print (\"Error: El número debe ser entero\")\n",
        "        except:\n",
        "            print (\"error\")"
      ],
      "metadata": {
        "id": "LbvYE0Ba7_zO"
      },
      "execution_count": null,
      "outputs": []
    },
    {
      "cell_type": "code",
      "source": [
        "def opciones(op):\n",
        "    if op == 1:\n",
        "        adivinum()\n",
        "        clear_output()\n",
        "        \n",
        "    elif op == 2:\n",
        "        adivina_indice()\n",
        "        clear_output()\n"
      ],
      "metadata": {
        "id": "RnojlnqP9Ppb"
      },
      "execution_count": null,
      "outputs": []
    },
    {
      "cell_type": "markdown",
      "source": [
        "#1.- Programa en python que genere un número entre el 1 y 10 (no visible)  preguntarle al usuario que número cree que generó la computadora, el usuario tendrá 3 oportunidades de adivinar. \n",
        "\n",
        "Decir si adivino o si falló en sus 3 intentos."
      ],
      "metadata": {
        "id": "rPCaCsjd9SHL"
      }
    },
    {
      "cell_type": "code",
      "source": [
        "\n",
        "def adivinum():\n",
        "    try:\n",
        "        bandera = 1\n",
        "        acum = 0\n",
        "        while bandera == 1:\n",
        "            clear_output()\n",
        "            pc = random.randint(0,9)+1\n",
        "            print(\"Adivina el numero de la computadora!\")\n",
        "            band = False\n",
        "            for i in range(3):\n",
        "                print(f\"tienes {3-i} oportunidades\")\n",
        "                num = valinum(\"Que numero escogió?: \",10,1)\n",
        "                if num == pc:\n",
        "                    band = True\n",
        "                    break\n",
        "            if band == True:\n",
        "                print(\"Felicidades!\")\n",
        "                print(f\"Lo logro en su intento #{i+1}\")\n",
        "                print(f\"El numero era {pc}\")\n",
        "            else:\n",
        "                print(\"No lo logró ni con sus 3 intentos\")\n",
        "                print(f\"El numero era {pc}\")\n",
        "                acum+=1\n",
        "            print(\"Desea volver a jugar?\")\n",
        "            bandera = valinum(\"(1)SI   (2)NO:\\n\",2,1)\n",
        "        print(f\"Perdio {acum} veces\")\n",
        "        input(\"Enter para continuar\")\n",
        "    except:\n",
        "        print (\"error\")\n"
      ],
      "metadata": {
        "id": "PZvFb1MN9QiT"
      },
      "execution_count": null,
      "outputs": []
    },
    {
      "cell_type": "markdown",
      "source": [
        "#2.- El juego Busca Número muestra una lista de 10 numeros, sin mostrar su contenido, \n",
        "\n",
        "Al usuario se le muestra un número que se generó aleatoriamente y el usuario tendrá 3 intentos de adivinar en qué índice del arreglo se encuentra. \n",
        "\n",
        "El usuario recibirá un mensaje que diga GANASTE, PERDISTE, TIENES UN NUEVO INTENTO\n",
        "\n",
        "El usuario podrá jugar cuantas veces lo desee.\n",
        "\n",
        "\n",
        "\n",
        "NOTA: La lista se deberá llenar con números aleatorios del 1 al 10 no repetidos.\n",
        "\n",
        "(Hacer una función que regrese la lista con los 10 números sin repetir)"
      ],
      "metadata": {
        "id": "SzKjb6oWJSxU"
      }
    },
    {
      "cell_type": "markdown",
      "source": [
        "##VERSIÓN A) Usar ciclos para validar los repetidos, y sólo random para generar los números dentro del rango\n",
        "\n",
        "\n"
      ],
      "metadata": {
        "id": "hmlq8XXBKMvq"
      }
    },
    {
      "cell_type": "code",
      "source": [
        "def ver_a():\n",
        "    lista = []\n",
        "\n",
        "    for i in range(10):\n",
        "        lista.append(0)\n",
        "    i = 1\n",
        "    while True:\n",
        "        pos = random.randint(0,9)\n",
        "        if lista[pos] == 0:\n",
        "            lista[pos] = i\n",
        "            i += 1\n",
        "        else:\n",
        "            continue\n",
        "        if i<= 10:\n",
        "            continue\n",
        "        break\n",
        "    return lista\n",
        "                "
      ],
      "metadata": {
        "id": "DW-sTFgXJb8z"
      },
      "execution_count": null,
      "outputs": []
    },
    {
      "cell_type": "markdown",
      "source": [
        "##VERSIÓN B) Usa funciones de la librería Random para llenar la lista con los número sin repetir\n",
        "\n"
      ],
      "metadata": {
        "id": "Y7zIafyOKTU7"
      }
    },
    {
      "cell_type": "code",
      "source": [
        "def ver_b():\n",
        "    lista = []\n",
        "    lista = random.sample(range(1, 11), 10)\n",
        "    return lista"
      ],
      "metadata": {
        "id": "0v2BegRuKXky"
      },
      "execution_count": null,
      "outputs": []
    },
    {
      "cell_type": "markdown",
      "source": [
        "##VERSIÓN C) lo mismo pero diferente"
      ],
      "metadata": {
        "id": "K9VDfo18KX1S"
      }
    },
    {
      "cell_type": "code",
      "source": [
        "def ver_c():\n",
        "    lista = list(range(1,11))\n",
        "    random.shuffle(lista)\n",
        "    return lista"
      ],
      "metadata": {
        "id": "f3PWcsJAKpLJ"
      },
      "execution_count": null,
      "outputs": []
    },
    {
      "cell_type": "markdown",
      "source": [
        "## juego"
      ],
      "metadata": {
        "id": "36fZxFtTrOZ5"
      }
    },
    {
      "cell_type": "code",
      "source": [
        "def adivina_indice():\n",
        "    lista = []\n",
        "    op = 1\n",
        "    ganado = 0\n",
        "    perdido = 0\n",
        "    while op != 2:\n",
        "        clear_output() \n",
        "        print(\"JUEGO DE BUSCAR EL NUMERO\")\n",
        "        print(\"1.-Lista random llenada con ciclos\")\n",
        "        print(\"2.-Lista random llenada con sample\")\n",
        "        print(\"3.-Lista random llenada con shuffle\")\n",
        "        op = valinum(\"Selecciona una opcion para generar la lista: \",3,1)\n",
        "        if op == 1:\n",
        "            lista = ver_a()\n",
        "        elif op == 2:\n",
        "            lista = ver_b()\n",
        "        elif op == 3:\n",
        "            lista = ver_c()\n",
        "        posreal = random.randint(0,9)\n",
        "        numadivinar = lista[posreal]\n",
        "        print(f\"El número que se genero es el {numadivinar}, intenta adivinar su posicion del 0 al 9\")\n",
        "        pos = valinum(\"En que posicion crees que esta el numero: \")\n",
        "        if lista[pos] == numadivinar:\n",
        "            print(\"GANASTE, EL NUMERO SI SE ENCUENTRA EN ESA POSICION!\")\n",
        "            print(\"  \",end=\"\")\n",
        "            for i in range(10):\n",
        "                print(f\" {i}\",end=\" \")\n",
        "            print(\"\\n\",lista)\n",
        "            ganado += 1\n",
        "        else:\n",
        "            print(f\"PERDISTE, EL NUMERO SE ENCUENTRA EN EL INDICE {posreal}, TIENES UN NUEVO INTENTO\")\n",
        "            print(\"  \",end=\"\")\n",
        "            for i in range(10):\n",
        "                print(f\" {i}\",end=\" \")\n",
        "            print(\"\\n\",lista)\n",
        "            perdido += 1\n",
        "        if perdido == 3:\n",
        "            print(\"PERDISTE 3 VECES, YA NO TE QUEDAN INTENTOS\")\n",
        "            break\n",
        "        op = valinum(\"DESEAS CONITNUAR JUGANDO? \\n (1).-SI (2).-NO \\n:\",2,1)\n",
        "    print(f\"Ganaste: {ganado} veces\")\n",
        "    print(f\"Perdiste: {perdido} veces\")"
      ],
      "metadata": {
        "id": "XrSAJ-X7rQDr"
      },
      "execution_count": null,
      "outputs": []
    },
    {
      "cell_type": "markdown",
      "source": [
        "#Menu"
      ],
      "metadata": {
        "id": "2TXLkk-h9ijp"
      }
    },
    {
      "cell_type": "code",
      "source": [
        "op = -1\n",
        "while op != 0:\n",
        "    print(\"    MENÚ\")\n",
        "    print(\"(0) Salir\")\n",
        "    print(\"(1) Adivina el numero\")\n",
        "    print(\"(2) Adivina la posición\")\n",
        "    try:\n",
        "        op = valinum(\"Selecciona: \",4,0)\n",
        "        opciones(op)\n",
        "    except:\n",
        "        print(\"error\")\n",
        "\n",
        "\n"
      ],
      "metadata": {
        "colab": {
          "base_uri": "https://localhost:8080/"
        },
        "id": "rVAv7s0q9heC",
        "outputId": "cf18d800-9325-4925-a706-a66479a25f25"
      },
      "execution_count": null,
      "outputs": [
        {
          "name": "stdout",
          "output_type": "stream",
          "text": [
            "    MENÚ\n",
            "(0) Salir\n",
            "(1) Adivina el numero\n",
            "(2) Adivina la posición\n",
            "Selecciona: 0\n"
          ]
        }
      ]
    }
  ]
}